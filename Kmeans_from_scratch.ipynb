{
 "cells": [
  {
   "cell_type": "markdown",
   "metadata": {},
   "source": [
    "# IMT574 Problem Set 7: "
   ]
  },
  {
   "cell_type": "code",
   "execution_count": 1,
   "metadata": {},
   "outputs": [],
   "source": [
    "# Importing required libraries and pacakages\n",
    "import numpy as np\n",
    "import pandas as pd\n",
    "import random\n",
    "from statistics import mean\n",
    "from sklearn.neighbors import KNeighborsClassifier\n",
    "from sklearn.linear_model import LogisticRegression\n",
    "from sklearn.svm import SVC\n",
    "from sklearn.linear_model import SGDClassifier\n",
    "from sklearn.metrics import accuracy_score, f1_score, average_precision_score, recall_score\n",
    "from sklearn.preprocessing import normalize\n",
    "import warnings"
   ]
  },
  {
   "cell_type": "markdown",
   "metadata": {},
   "source": [
    "#### 1.1 "
   ]
  },
  {
   "cell_type": "code",
   "execution_count": 2,
   "metadata": {},
   "outputs": [
    {
     "data": {
      "text/html": [
       "<div>\n",
       "<style scoped>\n",
       "    .dataframe tbody tr th:only-of-type {\n",
       "        vertical-align: middle;\n",
       "    }\n",
       "\n",
       "    .dataframe tbody tr th {\n",
       "        vertical-align: top;\n",
       "    }\n",
       "\n",
       "    .dataframe thead th {\n",
       "        text-align: right;\n",
       "    }\n",
       "</style>\n",
       "<table border=\"1\" class=\"dataframe\">\n",
       "  <thead>\n",
       "    <tr style=\"text-align: right;\">\n",
       "      <th></th>\n",
       "      <th>date</th>\n",
       "      <th>summary</th>\n",
       "      <th>review</th>\n",
       "      <th>rating</th>\n",
       "    </tr>\n",
       "  </thead>\n",
       "  <tbody>\n",
       "    <tr>\n",
       "      <th>0</th>\n",
       "      <td>2013-07-16</td>\n",
       "      <td>Awesine</td>\n",
       "      <td>Perfect for new parents. We were able to keep ...</td>\n",
       "      <td>5</td>\n",
       "    </tr>\n",
       "    <tr>\n",
       "      <th>1</th>\n",
       "      <td>2013-06-29</td>\n",
       "      <td>Should be required for all new parents!</td>\n",
       "      <td>This book is such a life saver.  It has been s...</td>\n",
       "      <td>5</td>\n",
       "    </tr>\n",
       "    <tr>\n",
       "      <th>2</th>\n",
       "      <td>2014-03-19</td>\n",
       "      <td>Grandmother watching baby</td>\n",
       "      <td>Helps me know exactly how my babies day has go...</td>\n",
       "      <td>5</td>\n",
       "    </tr>\n",
       "    <tr>\n",
       "      <th>3</th>\n",
       "      <td>2013-08-17</td>\n",
       "      <td>repeat buyer</td>\n",
       "      <td>I bought this a few times for my older son and...</td>\n",
       "      <td>5</td>\n",
       "    </tr>\n",
       "    <tr>\n",
       "      <th>4</th>\n",
       "      <td>2014-04-01</td>\n",
       "      <td>Great</td>\n",
       "      <td>I wanted an alternative to printing out daily ...</td>\n",
       "      <td>4</td>\n",
       "    </tr>\n",
       "  </tbody>\n",
       "</table>\n",
       "</div>"
      ],
      "text/plain": [
       "         date                                  summary  \\\n",
       "0  2013-07-16                                  Awesine   \n",
       "1  2013-06-29  Should be required for all new parents!   \n",
       "2  2014-03-19                Grandmother watching baby   \n",
       "3  2013-08-17                             repeat buyer   \n",
       "4  2014-04-01                                    Great   \n",
       "\n",
       "                                              review  rating  \n",
       "0  Perfect for new parents. We were able to keep ...       5  \n",
       "1  This book is such a life saver.  It has been s...       5  \n",
       "2  Helps me know exactly how my babies day has go...       5  \n",
       "3  I bought this a few times for my older son and...       5  \n",
       "4  I wanted an alternative to printing out daily ...       4  "
      ]
     },
     "execution_count": 2,
     "metadata": {},
     "output_type": "execute_result"
    }
   ],
   "source": [
    "# Importing data\n",
    "r_df = pd.read_csv('./amazon-reviews.csv.bz2', sep='\\t')\n",
    "r_df.head(5)"
   ]
  },
  {
   "cell_type": "code",
   "execution_count": 3,
   "metadata": {},
   "outputs": [
    {
     "data": {
      "text/plain": [
       "(205331, 4)"
      ]
     },
     "execution_count": 3,
     "metadata": {},
     "output_type": "execute_result"
    }
   ],
   "source": [
    "r_df.shape"
   ]
  },
  {
   "cell_type": "code",
   "execution_count": 4,
   "metadata": {},
   "outputs": [
    {
     "data": {
      "text/plain": [
       "80"
      ]
     },
     "execution_count": 4,
     "metadata": {},
     "output_type": "execute_result"
    }
   ],
   "source": [
    "# Number of nulls in reviews column\n",
    "r_df.review.isna().sum()"
   ]
  },
  {
   "cell_type": "code",
   "execution_count": 5,
   "metadata": {},
   "outputs": [],
   "source": [
    "# Dropping null values\n",
    "r_dfc = r_df.dropna(subset=['review'])"
   ]
  },
  {
   "cell_type": "code",
   "execution_count": 6,
   "metadata": {},
   "outputs": [
    {
     "data": {
      "text/plain": [
       "(205251, 4)"
      ]
     },
     "execution_count": 6,
     "metadata": {},
     "output_type": "execute_result"
    }
   ],
   "source": [
    "r_dfc.shape"
   ]
  },
  {
   "cell_type": "code",
   "execution_count": 7,
   "metadata": {},
   "outputs": [],
   "source": [
    "# Checking for blanks in reviews column \n",
    "filt = r_dfc[\"review\"] != \"\"\n",
    "r_dfc = r_dfc[filt]"
   ]
  },
  {
   "cell_type": "code",
   "execution_count": 8,
   "metadata": {},
   "outputs": [
    {
     "data": {
      "text/plain": [
       "(205251, 4)"
      ]
     },
     "execution_count": 8,
     "metadata": {},
     "output_type": "execute_result"
    }
   ],
   "source": [
    "r_dfc.shape"
   ]
  },
  {
   "cell_type": "markdown",
   "metadata": {},
   "source": [
    "##### 1.2"
   ]
  },
  {
   "cell_type": "code",
   "execution_count": 9,
   "metadata": {},
   "outputs": [],
   "source": [
    "# Setting a random seed to generate a sample of 1000 reviews\n",
    "np.random.seed(123)\n",
    "# Taking a random sample of 1000 reviews\n",
    "r_sample = r_dfc.sample(n=1000)"
   ]
  },
  {
   "cell_type": "code",
   "execution_count": 10,
   "metadata": {},
   "outputs": [
    {
     "data": {
      "text/html": [
       "<div>\n",
       "<style scoped>\n",
       "    .dataframe tbody tr th:only-of-type {\n",
       "        vertical-align: middle;\n",
       "    }\n",
       "\n",
       "    .dataframe tbody tr th {\n",
       "        vertical-align: top;\n",
       "    }\n",
       "\n",
       "    .dataframe thead th {\n",
       "        text-align: right;\n",
       "    }\n",
       "</style>\n",
       "<table border=\"1\" class=\"dataframe\">\n",
       "  <thead>\n",
       "    <tr style=\"text-align: right;\">\n",
       "      <th></th>\n",
       "      <th>date</th>\n",
       "      <th>summary</th>\n",
       "      <th>review</th>\n",
       "      <th>rating</th>\n",
       "    </tr>\n",
       "  </thead>\n",
       "  <tbody>\n",
       "    <tr>\n",
       "      <th>141133</th>\n",
       "      <td>2012-08-03</td>\n",
       "      <td>works as it should</td>\n",
       "      <td>We bought this to go with our First Year Ignit...</td>\n",
       "      <td>4</td>\n",
       "    </tr>\n",
       "    <tr>\n",
       "      <th>95579</th>\n",
       "      <td>2013-01-09</td>\n",
       "      <td>Not Good for You or Your Baby for Extended Per...</td>\n",
       "      <td>~BACKGROUND~I purchased this to use for my new...</td>\n",
       "      <td>3</td>\n",
       "    </tr>\n",
       "    <tr>\n",
       "      <th>116319</th>\n",
       "      <td>2013-08-25</td>\n",
       "      <td>fits perfect</td>\n",
       "      <td>fits my 14 month old perfectly...washes up gre...</td>\n",
       "      <td>5</td>\n",
       "    </tr>\n",
       "    <tr>\n",
       "      <th>175444</th>\n",
       "      <td>2016-12-03</td>\n",
       "      <td>love</td>\n",
       "      <td>Purfect coverage, love it</td>\n",
       "      <td>5</td>\n",
       "    </tr>\n",
       "    <tr>\n",
       "      <th>83080</th>\n",
       "      <td>2013-07-26</td>\n",
       "      <td>Great reasonable lightweight stroller</td>\n",
       "      <td>we have the uppa baby vista stroller which is ...</td>\n",
       "      <td>4</td>\n",
       "    </tr>\n",
       "  </tbody>\n",
       "</table>\n",
       "</div>"
      ],
      "text/plain": [
       "              date                                            summary  \\\n",
       "141133  2012-08-03                                 works as it should   \n",
       "95579   2013-01-09  Not Good for You or Your Baby for Extended Per...   \n",
       "116319  2013-08-25                                       fits perfect   \n",
       "175444  2016-12-03                                               love   \n",
       "83080   2013-07-26              Great reasonable lightweight stroller   \n",
       "\n",
       "                                                   review  rating  \n",
       "141133  We bought this to go with our First Year Ignit...       4  \n",
       "95579   ~BACKGROUND~I purchased this to use for my new...       3  \n",
       "116319  fits my 14 month old perfectly...washes up gre...       5  \n",
       "175444                          Purfect coverage, love it       5  \n",
       "83080   we have the uppa baby vista stroller which is ...       4  "
      ]
     },
     "execution_count": 10,
     "metadata": {},
     "output_type": "execute_result"
    }
   ],
   "source": [
    "r_sample.head()"
   ]
  },
  {
   "cell_type": "markdown",
   "metadata": {},
   "source": [
    "##### 1.3"
   ]
  },
  {
   "cell_type": "code",
   "execution_count": 11,
   "metadata": {},
   "outputs": [
    {
     "data": {
      "text/plain": [
       "199800                                                                                                                                                                                                                                                                                                                                                                                                                                                                                                                                                                                              I bought this stand because I needed support for larger songbooks that my metal fold-up could not provide.  I really, really like it. Others in my music groups that have seen it have also gone out and ordered one.  It assembles quickly and easily, and folds up into a nice package for transport.  Every once in a while I have to tighten the lock cams, but that is no issue.  It is very sturdy and holds big music books very well.\n",
       "13415                                         Medela pumps are used at most maternity wards and NICUs for a reason - they are high quality. I loved that I could use the extra parts that were given to me by the hospital (and paid for by my insurance!) with this manual pump and my electric Medela Pump-in-Style.This manual pump works well with extraction. It has two \"settings\" you can pump one part of the handle to stimulate let-down then pump the other part of the handle after let down has been established. I used this primarily when I was in my husband's car while he was driving - if we were stuck in traffic or just to get some extra pumping time in while I was trying to stimulate my supply during a time of lower supply.The flanges can be pretty discrete - especially if a pump-type bra or other clothing designed to hold it to your breast were used.For a manual pump, this does the job. The materials have lasted about six months and you can tell by the look and feel that they are quality material.\n",
       "155479                                                                                                                                                                                                                                                                                                                                                                                                                                                          Features:Swaddle Angel includes a 2 pair of blankets. It is made of Rayon got from bamboo.Pros:1) This blanket is made up of very soft material and is very light.2) It acts a munchkin swaddling blanket. The baby loves to be wrapped in this soft blanket.3) It works as a nursing cover too.The double layer center panel gives extra warmth to baby and privacy to motherwhile nursing.4) The blanket has a loop on each corner to attach to the stroller and infant carrier to act as protective cover for thebaby from sunlight, rain, insects and bugs.Love this product!\n",
       "186526                                                                                                                                                                                                                                                                                                                                                                                                                                                                                                                                                                                                                                                                                                                                                                                                                                                                                                  This product has literally lifted the appearance of my drooping upper lids. I can actually SEE my upper lids for the first time in years!\n",
       "184271                                                                                                                                                                                                                                                                                                                                                                                                                                                                                                                                                                                                                                                   Excellent product that primes your face for application of makeup -- and makes the makeup just glide on and stay put.  This was a little heavy for the heat of the summer, and I wouldn't use it when I planned to spend much time out of doors in the heat, as I felt like it made me a little more prone to sweating..  But it does do a fabulous job of evening out the skin surface.\n",
       "17181                                                                                                                                                                                                                                                                                                                                                                                                                                                                                                                                                                                                                                                                                                                                                                                                                                                         We have the oddest shaped stairs and had a hard time finding a way to put up 2 of our gates. Well this spindle was very helpful for the bottom of the staircase. Worth every penny!\n",
       "3878                                                                                                                                                                                                                                                                                                                                                                                                                               These work pretty well in my son's closet!  I love that it pops up on top of the rod so I can see what it says.  I'm disappointed that the stickers that come with it are &#34;3 months&#34; &#34;6 months&#34; etc. rather than &#34;0-3 months&#34; and &#34;3-6 months.&#34;  Many clothes are like this these days as well and it's not very helpful for us.  They tend to not slide very well on our older, metal rods (they are also thicker than most newer rods) but I'm positive this would not be a problem on a plastic tension rod or something of the sort--just gets stuck on the metal I think!\n",
       "199449    Yes, this pedal is made of plastic. Yes it is inexpensive. But don't be fooled- unless you really mash on the switch button like an idiot, or over torque the battery cover screw too hard with a screw driver and strip out the plastic threads- it is pretty tough and durable. The chorus effect has plenty of adjustment, tone, and depth. It may not be a Boss pedal, but for $15.99 you are getting a tremendous value and it sounds very good. I was so impressed with these inexpensive pedals I now own 4 or 5 of them. As a hobbyist guitar player who does not want to invest hundreds of dollars into multiple effects pedals- I am into 4 or 5 of them PLUS associated cables and a power adapter for about the same amount than I could buy ONE Boss or other high quality pedal for.I would also recommend buying the Danelectrode 9V power adapter if you use multiple pedals. You can also buy a 5 gang power cable and daisy chain up to 4 or 5 pedals from the same power supply to make your own pedal board. If...\n",
       "96998                                                                                                                                                                                                                                                                                                                                                                                                                                                                                                                                                                   I thought this toy would have more sounds, and that the sounds would sound like the actual instrument. However, it is small and the sounds are just like any other toy-cheap keyboard sounds. My 5 month old isn't very interested, but I will keep it around and hope she at least picks it up one day. She loves the Baby Einstein lion that was on her Around the World Play Gym, so I tought she would like this. Not so much. Think of it as a noisy stuffed animal.\n",
       "192449                                                                                                                                                                                                                                                                                                                                                                                                                                                                                                                                                                                                                                I have sensitive skin and this cleanser worked well on it.  It lathers right out of the container, so it lasts a long time.  It rinses clean, but did leave my skin feeling a little bit dry, so you'll definitely moisturizer after using this cleanser.  It doesn't really have a scent at all.  Overall, It's very nice cleanser, but nothing special or unique as far as benefits I noticed to my skin.\n",
       "Name: review, dtype: object"
      ]
     },
     "execution_count": 11,
     "metadata": {},
     "output_type": "execute_result"
    }
   ],
   "source": [
    "# Inspecting reviews\n",
    "pd.options.display.max_colwidth = 1000\n",
    "r_sample.review.tail(10)"
   ]
  },
  {
   "cell_type": "markdown",
   "metadata": {},
   "source": [
    "## 2 TF-IDF"
   ]
  },
  {
   "cell_type": "code",
   "execution_count": 12,
   "metadata": {},
   "outputs": [],
   "source": [
    "from sklearn.feature_extraction.text import CountVectorizer"
   ]
  },
  {
   "cell_type": "code",
   "execution_count": 13,
   "metadata": {},
   "outputs": [
    {
     "data": {
      "text/html": [
       "<div>\n",
       "<style scoped>\n",
       "    .dataframe tbody tr th:only-of-type {\n",
       "        vertical-align: middle;\n",
       "    }\n",
       "\n",
       "    .dataframe tbody tr th {\n",
       "        vertical-align: top;\n",
       "    }\n",
       "\n",
       "    .dataframe thead th {\n",
       "        text-align: right;\n",
       "    }\n",
       "</style>\n",
       "<table border=\"1\" class=\"dataframe\">\n",
       "  <thead>\n",
       "    <tr style=\"text-align: right;\">\n",
       "      <th></th>\n",
       "      <th>00</th>\n",
       "      <th>01</th>\n",
       "      <th>04</th>\n",
       "      <th>07</th>\n",
       "      <th>08</th>\n",
       "      <th>09</th>\n",
       "      <th>10</th>\n",
       "      <th>100</th>\n",
       "      <th>10lbs</th>\n",
       "      <th>10p</th>\n",
       "      <th>...</th>\n",
       "      <th>zigzag</th>\n",
       "      <th>zinc</th>\n",
       "      <th>zip</th>\n",
       "      <th>ziplocs</th>\n",
       "      <th>zipper</th>\n",
       "      <th>zippers</th>\n",
       "      <th>zips</th>\n",
       "      <th>zoo</th>\n",
       "      <th>zoom</th>\n",
       "      <th>zs</th>\n",
       "    </tr>\n",
       "  </thead>\n",
       "  <tbody>\n",
       "    <tr>\n",
       "      <th>0</th>\n",
       "      <td>0.0</td>\n",
       "      <td>0.0</td>\n",
       "      <td>0.0</td>\n",
       "      <td>0.0</td>\n",
       "      <td>0.0</td>\n",
       "      <td>0.0</td>\n",
       "      <td>0.0</td>\n",
       "      <td>0.0</td>\n",
       "      <td>0.0</td>\n",
       "      <td>0.0</td>\n",
       "      <td>...</td>\n",
       "      <td>0.0</td>\n",
       "      <td>0.0</td>\n",
       "      <td>0.000000</td>\n",
       "      <td>0.0</td>\n",
       "      <td>0.0</td>\n",
       "      <td>0.0</td>\n",
       "      <td>0.0</td>\n",
       "      <td>0.0</td>\n",
       "      <td>0.0</td>\n",
       "      <td>0.0</td>\n",
       "    </tr>\n",
       "    <tr>\n",
       "      <th>1</th>\n",
       "      <td>0.0</td>\n",
       "      <td>0.0</td>\n",
       "      <td>0.0</td>\n",
       "      <td>0.0</td>\n",
       "      <td>0.0</td>\n",
       "      <td>0.0</td>\n",
       "      <td>0.0</td>\n",
       "      <td>0.0</td>\n",
       "      <td>0.0</td>\n",
       "      <td>0.0</td>\n",
       "      <td>...</td>\n",
       "      <td>0.0</td>\n",
       "      <td>0.0</td>\n",
       "      <td>0.000000</td>\n",
       "      <td>0.0</td>\n",
       "      <td>0.0</td>\n",
       "      <td>0.0</td>\n",
       "      <td>0.0</td>\n",
       "      <td>0.0</td>\n",
       "      <td>0.0</td>\n",
       "      <td>0.0</td>\n",
       "    </tr>\n",
       "    <tr>\n",
       "      <th>2</th>\n",
       "      <td>0.0</td>\n",
       "      <td>0.0</td>\n",
       "      <td>0.0</td>\n",
       "      <td>0.0</td>\n",
       "      <td>0.0</td>\n",
       "      <td>0.0</td>\n",
       "      <td>0.0</td>\n",
       "      <td>0.0</td>\n",
       "      <td>0.0</td>\n",
       "      <td>0.0</td>\n",
       "      <td>...</td>\n",
       "      <td>0.0</td>\n",
       "      <td>0.0</td>\n",
       "      <td>0.000000</td>\n",
       "      <td>0.0</td>\n",
       "      <td>0.0</td>\n",
       "      <td>0.0</td>\n",
       "      <td>0.0</td>\n",
       "      <td>0.0</td>\n",
       "      <td>0.0</td>\n",
       "      <td>0.0</td>\n",
       "    </tr>\n",
       "    <tr>\n",
       "      <th>3</th>\n",
       "      <td>0.0</td>\n",
       "      <td>0.0</td>\n",
       "      <td>0.0</td>\n",
       "      <td>0.0</td>\n",
       "      <td>0.0</td>\n",
       "      <td>0.0</td>\n",
       "      <td>0.0</td>\n",
       "      <td>0.0</td>\n",
       "      <td>0.0</td>\n",
       "      <td>0.0</td>\n",
       "      <td>...</td>\n",
       "      <td>0.0</td>\n",
       "      <td>0.0</td>\n",
       "      <td>0.000000</td>\n",
       "      <td>0.0</td>\n",
       "      <td>0.0</td>\n",
       "      <td>0.0</td>\n",
       "      <td>0.0</td>\n",
       "      <td>0.0</td>\n",
       "      <td>0.0</td>\n",
       "      <td>0.0</td>\n",
       "    </tr>\n",
       "    <tr>\n",
       "      <th>4</th>\n",
       "      <td>0.0</td>\n",
       "      <td>0.0</td>\n",
       "      <td>0.0</td>\n",
       "      <td>0.0</td>\n",
       "      <td>0.0</td>\n",
       "      <td>0.0</td>\n",
       "      <td>0.0</td>\n",
       "      <td>0.0</td>\n",
       "      <td>0.0</td>\n",
       "      <td>0.0</td>\n",
       "      <td>...</td>\n",
       "      <td>0.0</td>\n",
       "      <td>0.0</td>\n",
       "      <td>3.346732</td>\n",
       "      <td>0.0</td>\n",
       "      <td>0.0</td>\n",
       "      <td>0.0</td>\n",
       "      <td>0.0</td>\n",
       "      <td>0.0</td>\n",
       "      <td>0.0</td>\n",
       "      <td>0.0</td>\n",
       "    </tr>\n",
       "  </tbody>\n",
       "</table>\n",
       "<p>5 rows × 6954 columns</p>\n",
       "</div>"
      ],
      "text/plain": [
       "    00   01   04   07   08   09   10  100  10lbs  10p ...   zigzag  zinc  \\\n",
       "0  0.0  0.0  0.0  0.0  0.0  0.0  0.0  0.0    0.0  0.0 ...      0.0   0.0   \n",
       "1  0.0  0.0  0.0  0.0  0.0  0.0  0.0  0.0    0.0  0.0 ...      0.0   0.0   \n",
       "2  0.0  0.0  0.0  0.0  0.0  0.0  0.0  0.0    0.0  0.0 ...      0.0   0.0   \n",
       "3  0.0  0.0  0.0  0.0  0.0  0.0  0.0  0.0    0.0  0.0 ...      0.0   0.0   \n",
       "4  0.0  0.0  0.0  0.0  0.0  0.0  0.0  0.0    0.0  0.0 ...      0.0   0.0   \n",
       "\n",
       "        zip  ziplocs  zipper  zippers  zips  zoo  zoom   zs  \n",
       "0  0.000000      0.0     0.0      0.0   0.0  0.0   0.0  0.0  \n",
       "1  0.000000      0.0     0.0      0.0   0.0  0.0   0.0  0.0  \n",
       "2  0.000000      0.0     0.0      0.0   0.0  0.0   0.0  0.0  \n",
       "3  0.000000      0.0     0.0      0.0   0.0  0.0   0.0  0.0  \n",
       "4  3.346732      0.0     0.0      0.0   0.0  0.0   0.0  0.0  \n",
       "\n",
       "[5 rows x 6954 columns]"
      ]
     },
     "execution_count": 13,
     "metadata": {},
     "output_type": "execute_result"
    }
   ],
   "source": [
    "#Count Vectorizer for reviews\n",
    "vr = CountVectorizer()\n",
    "X = vr.fit_transform(r_sample.review.values).toarray()\n",
    "df = pd.DataFrame(X, columns = vr.get_feature_names())\n",
    "tf = np.log(1+df)\n",
    "denom = (1+(df>0).sum(axis=0))\n",
    "idf = np.log(X.shape[0]/denom)\n",
    "tf_idf = tf*idf\n",
    "tf_idf.head()"
   ]
  },
  {
   "cell_type": "markdown",
   "metadata": {},
   "source": [
    "## 3 k-Means Clustering"
   ]
  },
  {
   "cell_type": "code",
   "execution_count": 28,
   "metadata": {},
   "outputs": [
    {
     "data": {
      "text/html": [
       "<div>\n",
       "<style scoped>\n",
       "    .dataframe tbody tr th:only-of-type {\n",
       "        vertical-align: middle;\n",
       "    }\n",
       "\n",
       "    .dataframe tbody tr th {\n",
       "        vertical-align: top;\n",
       "    }\n",
       "\n",
       "    .dataframe thead th {\n",
       "        text-align: right;\n",
       "    }\n",
       "</style>\n",
       "<table border=\"1\" class=\"dataframe\">\n",
       "  <thead>\n",
       "    <tr style=\"text-align: right;\">\n",
       "      <th></th>\n",
       "      <th>00</th>\n",
       "      <th>01</th>\n",
       "      <th>04</th>\n",
       "      <th>07</th>\n",
       "      <th>08</th>\n",
       "      <th>09</th>\n",
       "      <th>10</th>\n",
       "      <th>100</th>\n",
       "      <th>10lbs</th>\n",
       "      <th>10p</th>\n",
       "      <th>...</th>\n",
       "      <th>zigzag</th>\n",
       "      <th>zinc</th>\n",
       "      <th>zip</th>\n",
       "      <th>ziplocs</th>\n",
       "      <th>zipper</th>\n",
       "      <th>zippers</th>\n",
       "      <th>zips</th>\n",
       "      <th>zoo</th>\n",
       "      <th>zoom</th>\n",
       "      <th>zs</th>\n",
       "    </tr>\n",
       "  </thead>\n",
       "  <tbody>\n",
       "    <tr>\n",
       "      <th>0</th>\n",
       "      <td>0.0</td>\n",
       "      <td>0.0</td>\n",
       "      <td>0.0</td>\n",
       "      <td>0.0</td>\n",
       "      <td>0.0</td>\n",
       "      <td>0.0</td>\n",
       "      <td>0.0</td>\n",
       "      <td>0.0</td>\n",
       "      <td>0.0</td>\n",
       "      <td>0.0</td>\n",
       "      <td>...</td>\n",
       "      <td>0.0</td>\n",
       "      <td>0.0</td>\n",
       "      <td>0.000000</td>\n",
       "      <td>0.0</td>\n",
       "      <td>0.0</td>\n",
       "      <td>0.0</td>\n",
       "      <td>0.0</td>\n",
       "      <td>0.0</td>\n",
       "      <td>0.0</td>\n",
       "      <td>0.0</td>\n",
       "    </tr>\n",
       "    <tr>\n",
       "      <th>1</th>\n",
       "      <td>0.0</td>\n",
       "      <td>0.0</td>\n",
       "      <td>0.0</td>\n",
       "      <td>0.0</td>\n",
       "      <td>0.0</td>\n",
       "      <td>0.0</td>\n",
       "      <td>0.0</td>\n",
       "      <td>0.0</td>\n",
       "      <td>0.0</td>\n",
       "      <td>0.0</td>\n",
       "      <td>...</td>\n",
       "      <td>0.0</td>\n",
       "      <td>0.0</td>\n",
       "      <td>0.000000</td>\n",
       "      <td>0.0</td>\n",
       "      <td>0.0</td>\n",
       "      <td>0.0</td>\n",
       "      <td>0.0</td>\n",
       "      <td>0.0</td>\n",
       "      <td>0.0</td>\n",
       "      <td>0.0</td>\n",
       "    </tr>\n",
       "    <tr>\n",
       "      <th>2</th>\n",
       "      <td>0.0</td>\n",
       "      <td>0.0</td>\n",
       "      <td>0.0</td>\n",
       "      <td>0.0</td>\n",
       "      <td>0.0</td>\n",
       "      <td>0.0</td>\n",
       "      <td>0.0</td>\n",
       "      <td>0.0</td>\n",
       "      <td>0.0</td>\n",
       "      <td>0.0</td>\n",
       "      <td>...</td>\n",
       "      <td>0.0</td>\n",
       "      <td>0.0</td>\n",
       "      <td>0.000000</td>\n",
       "      <td>0.0</td>\n",
       "      <td>0.0</td>\n",
       "      <td>0.0</td>\n",
       "      <td>0.0</td>\n",
       "      <td>0.0</td>\n",
       "      <td>0.0</td>\n",
       "      <td>0.0</td>\n",
       "    </tr>\n",
       "    <tr>\n",
       "      <th>3</th>\n",
       "      <td>0.0</td>\n",
       "      <td>0.0</td>\n",
       "      <td>0.0</td>\n",
       "      <td>0.0</td>\n",
       "      <td>0.0</td>\n",
       "      <td>0.0</td>\n",
       "      <td>0.0</td>\n",
       "      <td>0.0</td>\n",
       "      <td>0.0</td>\n",
       "      <td>0.0</td>\n",
       "      <td>...</td>\n",
       "      <td>0.0</td>\n",
       "      <td>0.0</td>\n",
       "      <td>0.000000</td>\n",
       "      <td>0.0</td>\n",
       "      <td>0.0</td>\n",
       "      <td>0.0</td>\n",
       "      <td>0.0</td>\n",
       "      <td>0.0</td>\n",
       "      <td>0.0</td>\n",
       "      <td>0.0</td>\n",
       "    </tr>\n",
       "    <tr>\n",
       "      <th>4</th>\n",
       "      <td>0.0</td>\n",
       "      <td>0.0</td>\n",
       "      <td>0.0</td>\n",
       "      <td>0.0</td>\n",
       "      <td>0.0</td>\n",
       "      <td>0.0</td>\n",
       "      <td>0.0</td>\n",
       "      <td>0.0</td>\n",
       "      <td>0.0</td>\n",
       "      <td>0.0</td>\n",
       "      <td>...</td>\n",
       "      <td>0.0</td>\n",
       "      <td>0.0</td>\n",
       "      <td>3.346732</td>\n",
       "      <td>0.0</td>\n",
       "      <td>0.0</td>\n",
       "      <td>0.0</td>\n",
       "      <td>0.0</td>\n",
       "      <td>0.0</td>\n",
       "      <td>0.0</td>\n",
       "      <td>0.0</td>\n",
       "    </tr>\n",
       "  </tbody>\n",
       "</table>\n",
       "<p>5 rows × 6954 columns</p>\n",
       "</div>"
      ],
      "text/plain": [
       "    00   01   04   07   08   09   10  100  10lbs  10p ...   zigzag  zinc  \\\n",
       "0  0.0  0.0  0.0  0.0  0.0  0.0  0.0  0.0    0.0  0.0 ...      0.0   0.0   \n",
       "1  0.0  0.0  0.0  0.0  0.0  0.0  0.0  0.0    0.0  0.0 ...      0.0   0.0   \n",
       "2  0.0  0.0  0.0  0.0  0.0  0.0  0.0  0.0    0.0  0.0 ...      0.0   0.0   \n",
       "3  0.0  0.0  0.0  0.0  0.0  0.0  0.0  0.0    0.0  0.0 ...      0.0   0.0   \n",
       "4  0.0  0.0  0.0  0.0  0.0  0.0  0.0  0.0    0.0  0.0 ...      0.0   0.0   \n",
       "\n",
       "        zip  ziplocs  zipper  zippers  zips  zoo  zoom   zs  \n",
       "0  0.000000      0.0     0.0      0.0   0.0  0.0   0.0  0.0  \n",
       "1  0.000000      0.0     0.0      0.0   0.0  0.0   0.0  0.0  \n",
       "2  0.000000      0.0     0.0      0.0   0.0  0.0   0.0  0.0  \n",
       "3  0.000000      0.0     0.0      0.0   0.0  0.0   0.0  0.0  \n",
       "4  3.346732      0.0     0.0      0.0   0.0  0.0   0.0  0.0  \n",
       "\n",
       "[5 rows x 6954 columns]"
      ]
     },
     "execution_count": 28,
     "metadata": {},
     "output_type": "execute_result"
    }
   ],
   "source": [
    "tf_idf.head(5)"
   ]
  },
  {
   "cell_type": "code",
   "execution_count": 98,
   "metadata": {},
   "outputs": [],
   "source": [
    "def km(k, tf_idf):\n",
    "    \n",
    "    # Setting random seed for reproducibility\n",
    "    np.random.seed(1)\n",
    "    # Setting k random cluster centres\n",
    "    centres = tf_idf.sample(n=k)\n",
    "    \n",
    "    # Creating a list of indexes of cluster centres\n",
    "    centre_ind = centres.index.tolist()\n",
    "    \n",
    "    # Centroids for  the first iteration\n",
    "    centroids = []\n",
    "    for i in range(len(centre_ind)):\n",
    "        cluster = []\n",
    "        cluster.append(centre_ind[i])\n",
    "        centroids.append(tf_idf.iloc[cluster].mean(axis=0).tolist())\n",
    "\n",
    "    # Creating a dataframe of these centroids \n",
    "    centroid_df = pd.DataFrame(centroids)\n",
    "\n",
    "    # Calculating the cos similarities between all reviews and cluster centroids\n",
    "    cos = []\n",
    "    for i in range(k): # Iterating over each cluster\n",
    "        cos_in = []\n",
    "        for j in range(tf_idf.shape[0]): # Iterating over every review\n",
    "            dot = np.dot(tf_idf.iloc[j],centroid_df.iloc[i]) # Calculating dot product between review and centroid\n",
    "            anorm = np.linalg.norm(tf_idf.iloc[j]) # Calculating norm of review\n",
    "            bnorm = np.linalg.norm(centroid_df.iloc[i]) # Calculating norm of centroid\n",
    "            cos_sim = dot / (anorm * bnorm) # Cosine similarity between review and centroid\n",
    "            cos_in.append(cos_sim)\n",
    "        cos.append(cos_in)\n",
    "    cos_df = (pd.DataFrame(cos)).transpose()\n",
    "    \n",
    "    # Assigning review to cluster which has the least cosine similarity value\n",
    "    cos_df['cluster'] = cos_df.idxmin(axis=1)+1\n",
    "    cos_df.head()\n",
    "    \n",
    "    listclust = cos_df.cluster.unique()\n",
    "    \n",
    "    # Further iterations of k-means clustering\n",
    "\n",
    "    # Initializing a dataframe to hold new centroids\n",
    "    newcentroid_df = centroid_df.copy()\n",
    "\n",
    "    # Initializing an empty dataframe to store older centroids\n",
    "    prevcentroid_df = pd.DataFrame(columns=centroid_df.columns)\n",
    "    prevcentroid_df = prevcentroid_df.fillna(0)\n",
    "\n",
    "    # Intializing a dataframe for holding new cosine similarity values for all rows and cluster centres\n",
    "    newcos_df = cos_df.copy()\n",
    "\n",
    "    # Counter for number of iterations\n",
    "    iteration_no = 2\n",
    "\n",
    "    # Continuing to iterate till previous centroids match new centroids and number of iterations is less than 30\n",
    "    while ((prevcentroid_df.equals(newcentroid_df) == False) & (iteration_no < 35)):\n",
    "\n",
    "        #print(iteration_no)\n",
    "\n",
    "        prevcentroid_df = newcentroid_df.copy()  # centroids from previous iteration\n",
    "\n",
    "        newcentroidlist = []\n",
    "        for i in range(len(listclust)):\n",
    "            sublist = newcos_df[newcos_df.cluster == listclust[i]].index.tolist()\n",
    "            newcentroidlist.append(sublist)\n",
    "\n",
    "        newcentroids = []\n",
    "\n",
    "        # Computing new centroids for each cluster by averaging the tf_idf columns\n",
    "        for cluster in newcentroidlist:\n",
    "            centroid_list = tf_idf.iloc[cluster].mean(axis=0).tolist()\n",
    "            newcentroids.append(centroid_list)\n",
    "\n",
    "        # New Centroids\n",
    "        newcentroid_df = pd.DataFrame(newcentroids) # centroids from current iteration\n",
    "\n",
    "        newcos = []\n",
    "        # Calculating the cos similarities between all reviews and cluster centroids\n",
    "        for i in range(k):\n",
    "            cos_in = []\n",
    "            for j in range(tf_idf.shape[0]):\n",
    "                dot = np.dot(tf_idf.iloc[j],newcentroid_df.iloc[i])\n",
    "                anorm = np.linalg.norm(tf_idf.iloc[j])\n",
    "                bnorm = np.linalg.norm(newcentroid_df.iloc[i])\n",
    "                cos_sim = dot / (anorm * bnorm)\n",
    "                cos_in.append(cos_sim)\n",
    "            newcos.append(cos_in)\n",
    "        newcos_df = (pd.DataFrame(newcos)).transpose()\n",
    "        newcos_df['cluster'] = newcos_df.idxmin(axis=1)+1\n",
    "        iteration_no = iteration_no + 1\n",
    "\n",
    "    return newcos_df"
   ]
  },
  {
   "cell_type": "code",
   "execution_count": 91,
   "metadata": {},
   "outputs": [],
   "source": [
    "final = km(3,tf_idf)"
   ]
  },
  {
   "cell_type": "markdown",
   "metadata": {},
   "source": [
    "What kind of properties of the reviews is the algorithm considering? What constitutes similar\n",
    "reviews?"
   ]
  },
  {
   "cell_type": "code",
   "execution_count": 92,
   "metadata": {},
   "outputs": [
    {
     "data": {
      "text/plain": [
       "2    933\n",
       "1     36\n",
       "3     31\n",
       "Name: cluster, dtype: int64"
      ]
     },
     "execution_count": 92,
     "metadata": {},
     "output_type": "execute_result"
    }
   ],
   "source": [
    "final.cluster.value_counts()"
   ]
  },
  {
   "cell_type": "code",
   "execution_count": 103,
   "metadata": {},
   "outputs": [
    {
     "data": {
      "text/plain": [
       "[2, 3, 1]"
      ]
     },
     "execution_count": 103,
     "metadata": {},
     "output_type": "execute_result"
    }
   ],
   "source": [
    "listclust = final.cluster.unique().tolist()\n",
    "listclust"
   ]
  },
  {
   "cell_type": "code",
   "execution_count": 104,
   "metadata": {},
   "outputs": [],
   "source": [
    "finalclusters = []\n",
    "for i in range(len(listclust)):\n",
    "    sublist = final[final.cluster == listclust[i]].index.tolist()\n",
    "    finalclusters.append(sublist)"
   ]
  },
  {
   "cell_type": "markdown",
   "metadata": {},
   "source": [
    "It looks like the algorithm is looking at words used in the reviews to classify them into clusters. For example, the review \"I really like this makeup. It blends in well, it's nice and airy, not heavy or greasy. This color compliments my summer skin tone nicely, a light tan with neutral undertones. I can wear this and be confident that I already have sunscreen protection during the day. It is matte, but I can add shimmer powder or blush on top if I want. I like the coverage and the tint, so I would order more.\" has been classified correctly in newcluster3 along with other makeup reviews. \n",
    "\n",
    "Similar reviews are clustered based on the cosine similarity which is how similar two reviews are in terms of word count of \"key\" words. For instance, \"Good polish\" and \"Go to polish\" are both classified as reviews from the beauty section. This is probably because both reviews have the word \"polish\". "
   ]
  },
  {
   "cell_type": "markdown",
   "metadata": {},
   "source": [
    "### 4"
   ]
  },
  {
   "cell_type": "markdown",
   "metadata": {},
   "source": [
    "#### 4.1 "
   ]
  },
  {
   "cell_type": "code",
   "execution_count": 84,
   "metadata": {},
   "outputs": [
    {
     "data": {
      "text/html": [
       "<div>\n",
       "<style scoped>\n",
       "    .dataframe tbody tr th:only-of-type {\n",
       "        vertical-align: middle;\n",
       "    }\n",
       "\n",
       "    .dataframe tbody tr th {\n",
       "        vertical-align: top;\n",
       "    }\n",
       "\n",
       "    .dataframe thead th {\n",
       "        text-align: right;\n",
       "    }\n",
       "</style>\n",
       "<table border=\"1\" class=\"dataframe\">\n",
       "  <thead>\n",
       "    <tr style=\"text-align: right;\">\n",
       "      <th></th>\n",
       "      <th>index</th>\n",
       "      <th>date</th>\n",
       "      <th>summary</th>\n",
       "      <th>review</th>\n",
       "      <th>rating</th>\n",
       "    </tr>\n",
       "  </thead>\n",
       "  <tbody>\n",
       "    <tr>\n",
       "      <th>0</th>\n",
       "      <td>141133</td>\n",
       "      <td>2012-08-03</td>\n",
       "      <td>works as it should</td>\n",
       "      <td>We bought this to go with our First Year Ignite stroller and it works just fine. I like how it folds up for easy storage and it goes on quite easily. I guess the only thing I have to complain about it (and yes I realize this is petty) is that it looks like a witches hat LOL. I find it rather silly looking when viewing it from above. But honestly, it works great and does the job (covers up my baby in his stroller) so what more can you ask for other than a different color maybe?</td>\n",
       "      <td>4</td>\n",
       "    </tr>\n",
       "    <tr>\n",
       "      <th>1</th>\n",
       "      <td>95579</td>\n",
       "      <td>2013-01-09</td>\n",
       "      <td>Not Good for You or Your Baby for Extended Periods of Time</td>\n",
       "      <td>~BACKGROUND~I purchased this to use for my newborn son.  I am ~6'2\" and 175 lbs and my wife is 5'4\" and we have both used the carrier.~PROS~- THE PRICE!- Appears to be made of good materials and is of good workmanship.- Padded straps.- Quick release buckles make it fairly easy to put on and open and close the carrier.- Detachable bib.- Gender neutral and father friendly design/print/colors.- Face-in and face-out carrying positions.- Soft and comfortable.- Compact size.- Open sides allow your child to grow into the carrier.- Fabric is washable/wipeable.- Adjustable \"one-touch\" back strap.~CONS~- All of the baby's weight is on his/her crotch.- All of the weight of the baby is on your shoulders.- The description states 8-25 lbs, but I think 8 lbs is a bit too small for this carrier as there are buckles and straps right at face level.- Does not offer the most ideal support for smaller babies as they tend to roll around inside the carrier.- Can be difficult to put a child in or take out...</td>\n",
       "      <td>3</td>\n",
       "    </tr>\n",
       "    <tr>\n",
       "      <th>2</th>\n",
       "      <td>116319</td>\n",
       "      <td>2013-08-25</td>\n",
       "      <td>fits perfect</td>\n",
       "      <td>fits my 14 month old perfectly...washes up great, nice to not use 5 bibs a day and great to keep her arms clean too</td>\n",
       "      <td>5</td>\n",
       "    </tr>\n",
       "    <tr>\n",
       "      <th>3</th>\n",
       "      <td>175444</td>\n",
       "      <td>2016-12-03</td>\n",
       "      <td>love</td>\n",
       "      <td>Purfect coverage, love it</td>\n",
       "      <td>5</td>\n",
       "    </tr>\n",
       "    <tr>\n",
       "      <th>4</th>\n",
       "      <td>83080</td>\n",
       "      <td>2013-07-26</td>\n",
       "      <td>Great reasonable lightweight stroller</td>\n",
       "      <td>we have the uppa baby vista stroller which is awesome but it's bulky. we wanted to find something that was easy to use in smaller spaces and easy to carry (i'm only 5'2&amp;#34; with a growing boy)! this works just fine; i find that it's better quality than most in this price range. don't expect super high end like some of the ones you'll spend a lot more on but for the price i think it offers a lot.pros: the seat adjusts forward and back which is great for our son. has a harness clasp which is safer. there is a canopy which keeps most (not all) of the sun out and there are brakes on the wheels. the top handles have a cup holder and a small zip compartment. we haven't been in a situation where it's been totally soiled but it's been very easy to clean so far.we're very happy with this and i'd recommend if you're looking for an easy to use lightweight stroller that doesn't cost a fortune.</td>\n",
       "      <td>4</td>\n",
       "    </tr>\n",
       "  </tbody>\n",
       "</table>\n",
       "</div>"
      ],
      "text/plain": [
       "    index        date  \\\n",
       "0  141133  2012-08-03   \n",
       "1   95579  2013-01-09   \n",
       "2  116319  2013-08-25   \n",
       "3  175444  2016-12-03   \n",
       "4   83080  2013-07-26   \n",
       "\n",
       "                                                      summary  \\\n",
       "0                                          works as it should   \n",
       "1  Not Good for You or Your Baby for Extended Periods of Time   \n",
       "2                                                fits perfect   \n",
       "3                                                        love   \n",
       "4                       Great reasonable lightweight stroller   \n",
       "\n",
       "                                                                                                                                                                                                                                                                                                                                                                                                                                                                                                                                                                                                                                                                                                                                                                                                                                                                                                                                                                                                                                    review  \\\n",
       "0                                                                                                                                                                                                                                                                                                                                                                                                                                                                                                                                        We bought this to go with our First Year Ignite stroller and it works just fine. I like how it folds up for easy storage and it goes on quite easily. I guess the only thing I have to complain about it (and yes I realize this is petty) is that it looks like a witches hat LOL. I find it rather silly looking when viewing it from above. But honestly, it works great and does the job (covers up my baby in his stroller) so what more can you ask for other than a different color maybe?   \n",
       "1  ~BACKGROUND~I purchased this to use for my newborn son.  I am ~6'2\" and 175 lbs and my wife is 5'4\" and we have both used the carrier.~PROS~- THE PRICE!- Appears to be made of good materials and is of good workmanship.- Padded straps.- Quick release buckles make it fairly easy to put on and open and close the carrier.- Detachable bib.- Gender neutral and father friendly design/print/colors.- Face-in and face-out carrying positions.- Soft and comfortable.- Compact size.- Open sides allow your child to grow into the carrier.- Fabric is washable/wipeable.- Adjustable \"one-touch\" back strap.~CONS~- All of the baby's weight is on his/her crotch.- All of the weight of the baby is on your shoulders.- The description states 8-25 lbs, but I think 8 lbs is a bit too small for this carrier as there are buckles and straps right at face level.- Does not offer the most ideal support for smaller babies as they tend to roll around inside the carrier.- Can be difficult to put a child in or take out...   \n",
       "2                                                                                                                                                                                                                                                                                                                                                                                                                                                                                                                                                                                                                                                                                                                                                                                                                                                                                                                      fits my 14 month old perfectly...washes up great, nice to not use 5 bibs a day and great to keep her arms clean too   \n",
       "3                                                                                                                                                                                                                                                                                                                                                                                                                                                                                                                                                                                                                                                                                                                                                                                                                                                                                                                                                                                                                Purfect coverage, love it   \n",
       "4                                                                                                          we have the uppa baby vista stroller which is awesome but it's bulky. we wanted to find something that was easy to use in smaller spaces and easy to carry (i'm only 5'2&#34; with a growing boy)! this works just fine; i find that it's better quality than most in this price range. don't expect super high end like some of the ones you'll spend a lot more on but for the price i think it offers a lot.pros: the seat adjusts forward and back which is great for our son. has a harness clasp which is safer. there is a canopy which keeps most (not all) of the sun out and there are brakes on the wheels. the top handles have a cup holder and a small zip compartment. we haven't been in a situation where it's been totally soiled but it's been very easy to clean so far.we're very happy with this and i'd recommend if you're looking for an easy to use lightweight stroller that doesn't cost a fortune.   \n",
       "\n",
       "   rating  \n",
       "0       4  \n",
       "1       3  \n",
       "2       5  \n",
       "3       5  \n",
       "4       4  "
      ]
     },
     "execution_count": 84,
     "metadata": {},
     "output_type": "execute_result"
    }
   ],
   "source": [
    "# Resetting index of 1000 observation sample\n",
    "reset_sample = r_sample.reset_index()\n",
    "reset_sample.head()"
   ]
  },
  {
   "cell_type": "markdown",
   "metadata": {},
   "source": [
    "#### 4.2"
   ]
  },
  {
   "cell_type": "code",
   "execution_count": 85,
   "metadata": {},
   "outputs": [
    {
     "data": {
      "text/plain": [
       "0                                                                                                                                                                                                                                                                                                                                                                                                                                                                                                                                            We bought this to go with our First Year Ignite stroller and it works just fine. I like how it folds up for easy storage and it goes on quite easily. I guess the only thing I have to complain about it (and yes I realize this is petty) is that it looks like a witches hat LOL. I find it rather silly looking when viewing it from above. But honestly, it works great and does the job (covers up my baby in his stroller) so what more can you ask for other than a different color maybe?\n",
       "1      ~BACKGROUND~I purchased this to use for my newborn son.  I am ~6'2\" and 175 lbs and my wife is 5'4\" and we have both used the carrier.~PROS~- THE PRICE!- Appears to be made of good materials and is of good workmanship.- Padded straps.- Quick release buckles make it fairly easy to put on and open and close the carrier.- Detachable bib.- Gender neutral and father friendly design/print/colors.- Face-in and face-out carrying positions.- Soft and comfortable.- Compact size.- Open sides allow your child to grow into the carrier.- Fabric is washable/wipeable.- Adjustable \"one-touch\" back strap.~CONS~- All of the baby's weight is on his/her crotch.- All of the weight of the baby is on your shoulders.- The description states 8-25 lbs, but I think 8 lbs is a bit too small for this carrier as there are buckles and straps right at face level.- Does not offer the most ideal support for smaller babies as they tend to roll around inside the carrier.- Can be difficult to put a child in or take out...\n",
       "2                                                                                                                                                                                                                                                                                                                                                                                                                                                                                                                                                                                                                                                                                                                                                                                                                                                                                                                          fits my 14 month old perfectly...washes up great, nice to not use 5 bibs a day and great to keep her arms clean too\n",
       "4                                                                                                              we have the uppa baby vista stroller which is awesome but it's bulky. we wanted to find something that was easy to use in smaller spaces and easy to carry (i'm only 5'2&#34; with a growing boy)! this works just fine; i find that it's better quality than most in this price range. don't expect super high end like some of the ones you'll spend a lot more on but for the price i think it offers a lot.pros: the seat adjusts forward and back which is great for our son. has a harness clasp which is safer. there is a canopy which keeps most (not all) of the sun out and there are brakes on the wheels. the top handles have a cup holder and a small zip compartment. we haven't been in a situation where it's been totally soiled but it's been very easy to clean so far.we're very happy with this and i'd recommend if you're looking for an easy to use lightweight stroller that doesn't cost a fortune.\n",
       "5                                                                                                                                                                                                                                                                                                                                                                                                                                                                                                                                                                                                                This works well for us when my toddler sleeps in his heavy blanket pajamas and we want to add one more layer for him to sleep in.  His room temp is 65-70 degrees and he sleeps in a Onesie, thick pajamas and either this blanket or a thicker halo sleep sack if it's really cold outside.  We live where on the colder nights it is in the 20's outside.  He seems to stay warm and can stand up in them when he wants to.\n",
       "6                                                                                                                                                                                                                                                                                                                                                                                                                                                                                                                                                                                                                                                                                                                                                                                      my daughter loves using this potty and enjoys picking up the bowl to dump into the big toilet when she is finished.  she likes the knob in the front to hold on to when she is sitting down.  and i like that it's easy for me to clean in the bathtub.\n",
       "7      This is the curling iron that you wanted as a teenager when you bought your first one from Target and spent hours cursing it because it wouldn't hold a curl at all. This iron is the preferred iron of stylists for a reason-it is a workhorse, and it is fabulous.\\n\\nI have this iron in three sizes. I have the 1\", the 1.25\" and the 2\". This size is by far my most used size. I have mid back length hair and it's medium thickness. It is wavy by nature but I typically curl it after blow drying it straight. This iron has been my go to after years of use, and it still looks as good as the day I bought it-8 years ago. It's in pristine condition and it works like a charm, and it gets USED.\\n\\nThere are adjustable settings for the temperature on here-it's a dial-set it once and then leave it alone. Not like electronic ones where you have to reset it every time you use it. I do wish this had an auto off feature, that's my one thing I want that newer irons have. The barrel on here is the PERFECT ...\n",
       "8      For a while I loved this play yard, because it gave baby so much room and it's easy to set up, fold and move. However, I just caught my 10 month old trying to climb out of it AND SUCCEEDING! I was looking in on him every minute or so, luckily, because at some point I looked in and he was at the top! So make sure when you use this play yard to watch baby closely and make sure they aren't able to climb out.Update: I will be contacting the company about this ASAP, as baby being able to climb out would not be a problem if the walls of this product were designed/positioned differently. The walls are made up of oval-shaped holes which are in a diagonal pattern. WRONG DESIGN! If only the holes were patterned VERTICALLY, I believe babies would not be able to get enough toes into a vertically positioned oval hole as to be able to climb out, especially while wearing socks or other foot covering. The way these oval holes are currently patterned, might as well make the walls out of ladders.*Co...\n",
       "9                                                                                                                                                                                                                                                                                                                                                                                                                                                                                                                                                                                                                                                                                                                                                                                                                                                                                                                                                                                                                      It is a great product !\n",
       "10                                                                                               I love this nap light, and so does my son. I would LOVE to give it a 5 star review, but I just can't.The naplight itself is fantastic. Safe, just enough light, lasts all night. HOWEVER, the charging station is terrible! It is very touchy  even when new. You have to get it on just so. Over time, it becomes harder and harder to get the position \"just right\". Ours is still pretty new and sometimes it takes me 10 minutes to wiggle it into the one perfect spot where it will charge.Before I purchased our Tyke Light, I read several other reviews that mentioned this problem. It is not just a problem with a few \"lemons\", it is a design flaw, and all lights will eventually stop charging.My daughter has the Munchkin puppy light, and it charges great. I would actually like the tyke light a little better than the munchkin if it were not for the issues with the charger. While it will take a charge it's awsome!\n",
       "11                                                                                                                                                                                                                                                                                                                                                                                                                                                                                                                                                                                             Purchased this to keep in the back of the Volvo SUV for tailgate diaper changes. It was inexpensive and perfect for this purpose.  Teh lesh pockets will hold wipes and a diaper and even a onesie.  Not a lot but perfect if you're desperate!I suppose you could use it for everyday but I'm not sure that this would hold up well over time. Would not be a substitute for a good diaper bag changing pad. But definitely works as a backup.\n",
       "12                                                                                                                                                                                                                                                                                                                                                                                                                                                                                                                                                                                 For those of you that don't know, there was a version of this in the nineteenth century that KILLED babies. The milk couldn't be cleaned out of the tubes completely and it would rot and cause severe diarrhea which sometimes ended up being fatal. I'm not sure if this tube would have the same problem or if they have since developed some way of cleaning out the ENTIRE tube since then, but I'm not risking my child's life for convenience! [...]\n",
       "13     I saw this cup at Babies R Us and like other reviewers was fooled into the marketing words that were on the front.  The concept sounded great and I'd like to get my 2 year old to just use regular cups so thought I'd give it a try.  When I got home I read the reviews here and contemplated returning it (I'm one of those that buys only on reviews) but for the price (one-third of what you see here) I thought I'd give it a try.  Big mistake!I've purchased several cups in the past year and kept all of them as they were all good in their own ways.  This was the only cup I actually threw into the trash after one day.My poor daughter took to it immediately wanting to open up her new cup.  She tried and tried with no luck as the water got on her clothes, in her eyes, and just about every other place except her mouth.  I thought she was doing it wrong so I tried it so I could show her and in doing so realized how poorly designed this cup really was.First of all, it leaks.  Second, there's one...\n",
       "14                                                                                                                                                                                                                                                                                                                                                                                                                                                                                                                                                                                                                                                                                                                                                                                                                                                          It is great to have more then one base, either for me and my husband or for the sitter. So glad we got this I love the b-safe car seat and these bases are great. Easy to install.\n",
       "15                                                                                                                                                                                                                                                                                                                                                                                                                                                                                                                                                                                                                                   This color is a pretty vibrant blue. It's a bit darker than expected, but that may be an issue with the monitor. It's not so different that you feel like it's not what you wanted, however, like some polishes can be. It's a really vivid cerulean blue. The quality is what you would expect from cnd. No chips,lasts two weeks, doesn't shrink from the tips of the nails or crinkle, easy to remove.\n",
       "16                                                                                      Perhaps it's because we live in a high traffic area, but we have nothing but static using this monitor. If you walk by the receiver using the cordless or cellphone it completely loses all reception and all you hear is static. The receiver also seems to have trouble around our direct tv boxes.With all the electronic gidgets and gadgets out there spend the money and get the higher end models that really do block out interference.The real kicker of this was I was asleep one night while my husband was out working and I heard a males voice in the monitor. I immediately freaked out thinking someone broke into the house and was in the baby's room. I jumped out of bed and was ready to run into the baby's room when I heard the guy talking to a girl in what appeared to be a cell phone conversation from who knows where. Talk about almost having a heart attack on the spot!FP should just stop making this model period.\n",
       "17                                                                                                                                                                                                                                                                                                                 I am a mom of two kids, and I've tried many car seats over the years (I tried my friends' car seats before buying my own).  Chicco KeyFit 30 is by far the best on the market!!!  It's so easy to use, super comfy, and convenient to transfer between two cars.  I took this seat to our local fire station for installation (even though installation here is a snap! there's even a level indicator for fool-proof job) - i just wanted to be sure I did it right.  The supervisor there was raving to me how safe these car seats are, and how he wouldn't use anything else for his kids.  They are a bit expensive, but when it comes to the safety of your kids... well, it's worth it.  (P.S. Love the Miro design)\n",
       "18                                                                                                                                                                                  I'm seriously getting sold on Demablend! I've been using four products the last month and have been really happy with them. This is no different. I've used \"green\" cover up makeup before for a few imperfections. I have found that sometimes they are too chalky and do not blend well, and the other one \"disappeared\" once my liquid makeup was applied. It didn't happen with this! I applied both with fingertips and with a sponge, both worked great! I followed up with Dermablend liquid makeup and loved it. The green covers pimples, red splotches, and red discoloration. This makeup is not thick, and applies easily. The tube is small, but you only need a small amount. I did not experience any rash or irritation. It takes a few applications to get used to applying green makeup before your regular makeup but it works wonders!\n",
       "19                                                                                                                                                                                                                                                                                                                                                                                                                                                                                                                                                                                                                                We've been using this a few weeks.  I bought this instead of a flat one, because it was more like the one we have at home and I didn't want any excuse for my potty-training daughter to not use the toilet when she has to, if we're outside of the house.  While it's bulkier than the flat plastic ones, I think she prefers it, and it's been pretty secure feeling on all the toilets we've used it on.\n",
       "20                                                                                                                                                                                                                                                                                                                                                                                                                                                                                                                                                                                                                                                                                                                                                              Butter London is the best nail polish in the marketplace! Goes on very easy and smooth, no streaks ever. Most times no second coat is needed, especially with the darker colors. I won't purchase any other brand of nail polish. Worth the price!! Manicure lasts for 7 days!\n",
       "21     I purchased this about 2 months ago and the moment my son put this pacifier in his mouth he would not accept any other pacifiers after that. However he has now realized that sucking on his fingers is much more comforting that his Soothie pacifier. There are still those times where he'll suck on the pacifier quietly but I think he's moved on from this one.I really liked the simplicity of this pacifier and the smiley face it has(I'm not sure if it was intentional but it's cute). My son did gag on it a couple times when he first started using it(he was 6 weeks old when we first gave him the Soothie) but I think it's a good shaped and sized pacifier for bottle fed babies(I bottle fed breast milk to my son for 6 weeks and then switched him to breastfeed directly). I think the switch to breastfeeding caused him to stop take this pacifier. He will suck on it when he's very hungry but other than that it's a no go for him.Although there are 2 holes to pass through a pacifier holder I wish i...\n",
       "22     We bought this along with several other swaddles (swaddle me, woombie, miracle blanket).  Each has its pros/cons but this was our least used swaddle.Pros:- Warm.  The only swaddle which didn't need a light blanket on top for our winter baby- Cute.  I love pooh bear and my son looks adorable in this.- The sleep sack itself holds up well to washing (the swaddle part does not, see below)Cons:- Swaddle is too loose and our baby could work his arm free in the night.  The velcro also seemed less sticky than normal and it was impossible to swaddle him as tightly in this swaddle as our other swaddles.- Stitching inside the swaddle is poorly done - it unravels and there are loose threads everywhere after a few washes.- The zipper is not easy to fasten when you have a struggling baby (it separates and must be fastened at the neck, and it zips down to the feet to allow diaper changes without unswaddling the baby).  A 2-way zipper like on the woombie is a much better design to permit both easy...\n",
       "23                                                                                                                                                                                                                                                                                                                                                                                                                                                                                                                                                                                                                                          Very nice and doesn't take too much space on the counter. It si easy to organize the bottles and nipples on the spikes. However, some of the hinges that hold the spikes up have weaken over time and tend to flip, even though we use Medela plastic bottles. In addition, we are about to start solds with our daughter and are not sure how we can use this for drying little spoons and bowls.\n",
       "24                                                                                                                                                                                                                                                                                                                                                                                                                                                                                                                                                              I really love this foot cream. I'm a fan of Ahava products in general and the Dermud line is great for intensive hydration. This is a thick cream, as is the hand cream in the same line, and for me it works best to use the products at night. They make for a really great deep moisturizing treatment. After several nights use, my feet are considerably softer. I will say that it's not my favorite scent, but because I'm using it at night, it doesn't really matter.\n",
       "25                                                                                                                                                                                                                                                                                                                                                                                                                                                                                                      There's two factors to consider when reviewing this product. Is it good and is it worth the money? To answer the first question, it certainly makes your skin feel good. I don't have particularly noticeable lines, but I did feel better after using it.\\n\\nWould I pay 60 dollars for it? Probably not. Should you? I'm not sure. Other reviewers have essentially said the same thing. If you're really looking for something to make lines go away, it could be worth a try. I'm not sure how \"meaningful\" this product truly is.\n",
       "26                                                                                                                                                                                                                                                                                                                                                                                                                                                                                                                                                                                                                                                                                                                                                                                                                                                                                                                    Comotomo bottles are so wonderful. Our baby loves them. Plus, the silicone is soft to the touch and super easy to clean.\n",
       "27                                                                                                                                                                                                                                                                                                                                                                                                                                                                                                                                                                                            My daughter just passed 8 months and she's been using her crib sporadically (most nights she slept with us). She didn't have many accidents that required a crib pad but the few she did have were easily absorbed by this keeping them from the mattress. It cleans very easily and protects the mattress just fine. The materials in any Naturepedic product are respectable so if you want a \"cleaner\" product this is definitely a good buy.\n",
       "28                       This is the second one we've purchased and we love it. I'm not sure where the bad reviews are coming from.First, the water reservoir is see through, so you can in fact see when the water is running out. We fill it maybe twice a day for roughly 6-8 bottles per day. Bad reviewers have a serious case of First World Problems if filling a reservoir twice a day is too much work. When the reservoir runs out and it's heating nothing, it makes a pretty apparent hissing sound that you can hear clearly.Second, it does warm bottles larger than 4oz (saw a bad review), you just have to set the timer for longer. We use 6oz and 8oz bottles of organic whole milk. 6oz warms perfectly in 5 minutes and the 8oz in 6 minutes. Just enough time for you to set it and go change the diaper!The only con I can think of is this thing gets pretty nasty, but this may be due to the horrible tap water we have in our city. It's nothing we haven't been able to scrub off with dish soap and water though.\n",
       "29                                                                                                                                                                                                                                                                                                                                                                                                                                                                                                                                                                             When I saw this I thought it was an item I could do without, but I got it anyway.  This portable tub looks great when it it  set up, but you have to inflate the bottom so the support is there. After you fill the tub you need to put a towel in the bottom to protect the baby from the vinyl. It does fold up for storage and travel. If you do a lot of traveling with your little one, you may need this tub, but I would not recommend it for daily use.\n",
       "30                                                                                                                                                                                                                                                                                                                                                                                                                                                                                                                                                                                                                                                                                                                                                                                                                                         This is the first toy which caught the attention of my baby and she loves it more and more everyday.  The firefly is so colorful, nice to touch, has so many great details and features to explore!\n",
       "                                                                                                                                                                                                                                                                                                                                                                                                                                                                                                                        ...                                                                                                                                                                                                                                                                                                                                                                                                                                                                                                                   \n",
       "968                                                                                                                                                                                                                                                                                                                                                                                                                                                                                                                                                                                                                                                                                                  This is a very cute picture book for babies, and I love the fact that it comes with a mirror.  My husband and I put in pictures of our family, including the grandparents that live farther away, to introduce our daughter to the relatives.  This would be a really cute baby shower gift, pre-filled with pictures for the baby to be!\n",
       "970                                                                                                                                                                                                                                                                                                       These cups are large and sturdy, the lids close tightly and we have had zero leaks so far, but by far the best feature is the valve and lid combo. This is the first sippy cup (of dozens we have tried) to have a lit that has no nooks or crannies that are hard to clean. The valve separates into two pieces and is also very easy to clean. My biggest issues with cups in the past had to do with the inability to clean well and having to toss them for hygiene reasons, but I do not see that happening with these. We actually had to clean spoiled milk out already and it was so easy compared to other brands, I felt that the cup was indeed clean enough to use again and that there was no hidden yuck in a crevice.\n",
       "971                                                                         Functionally, it's very useful because it's large enough for my 36\" toddler, and the feet openings allow ventilation if it gets too hot or if walking is needed. The fleece is good for cold winter nights. I won't repeat what the other reviewers praised. I will enter two gripes that I didn't see in other reviews (yet):1. [Removed negative feedback on 3/31/2013.]2. I wish the zipper was a two-way attached zipper that started from the bottom so that I wouldn't have to fumble in the dark to zip or unzip it. Of course that would mean there would need to be some sort of cover for the zipper pull at the top.Update 3/31/2013:After another year of usage, I can correct my earlier review and state that the chemical smell was not due to the product, and more likely due to either heavy sweating or potty training accidents. I'm willing to admit my error, and have thus modified the earlier \"gripes,\" and raised the rating to 4 stars.\n",
       "972                                                                                                                                                                                                                                                                                                                                                                                                                                                                                                                                                                                                                                                                                                                                                                                                                                                                            The abrasive material comes off so easily, you barely get one use out of them. And they're not very abrasive to begin with as well. I wouldn't recommend these.\n",
       "973                                                                                                                                                                                                                                                   My daughter loves it, it can keep her occupied for a good chunk of time--when we go shopping it comes along with us. Props to the reviewer who suggested always using a paci-clip with it because that is one of those \"life-saver\" suggestions--I wouldn't use it without one.My daughter is a preemie, so has Early Intervention on a regular basis because of her prematurity. Her nurse thought it was an excellent developmental tool: teether, helps w/oral aversion, is textured and the \"handles\" will help with the sippy cup concept.My daughter is 7 months old and does not have teeth, but is teething. I would recommend this product to anyone. I definitely don't view it as a toothbrush though, but I don't think marking it down because of that is really warranted.\n",
       "974                                                                                                                                                                                                                                                                                                                                                                                                                                                                                                                                                                                                                                                                                                                                                                                                                                                                            We have 2 of these and love them. We are hoping baby still fits in them by the time the cold weather comes back around instead of using a blanket in the crib..\n",
       "975                                                                                                                                                                                                                                                                                                                                                                                                                                                                                                                            As a 38 DDD / 36F  I found it difficult to believe I should buy the XS/S/M size.  But that's what the guidelines said I should order, so I did.Happy to say that the fit is right.  There are pieces that zip in and velcro on, so it really is quite adjustable.  Glad I didn't order up.And overall, this is great.  Not much else to say.  Put it on and hands-free pumping.I wouldn't wear it under clothes as a real bra though ... it's not comfortable or supportive for that.  At least not at my size.\n",
       "976    I have wanted one of these since my oldest son was little(he's 9 years old now!). Either we didn't have the money, didn't have a kitchen, or didn't have a BIG enough kitchen to get one. We have a little one now and have a new home with a big open kitchen, so I figured why not? They sell for practically full price used, so if we didn't like it we could resell it with little loss.We just got ours 2 days ago. We won't be selling it anytime soon. We love it! Instead of just watching us in the kitchen sitting on the counter, our 2yo actually can help out. He has rinsed off dishes, made PB & J, sprinkled cheese on bread, stirred juice, beat eggs, and sorted frozen fruit. Then we took the platform out & put the included star cloth cover on top of the tower. He & his brother played for literally hours in it like that.Sure, it's pricey. It's super heavy & well made. And it grows with your child. And you can sell it for half to 3/4 what you paid new. It takes up about as much space as a regu...\n",
       "977                                                                                                                                                                                                                                                                                                                                                                                                                                                                                                                                                                                                                                                                                                                                                                                                                                                               Nice shimmery \"turquoise-y\" blue.  A huge hit with my teenaged nieces.  Just like all CND polishes it is long wearing and does not damage your nails when removed correctly.\n",
       "978    The quality of this changer is fine and it's easy to assemble. The one thing I've learned over the last two years is that as your infant becomes a toddler, he will start pulling things from the table. I've had to restack diapers and clothes and even just have the bottom shelf full of toys that I didn't have to reorganize if he got to it. My recommendation for new parents is to get a changing table with drawers so that you don't have to worry about your toddler getting easy access to stuff you don't want to keep reorganizing. The ease of access is nice, but pulling out a drawer isn't that much more work. ALSO when we were sleep training, I found my son sleeping on top of his changer two nights in a row so we had to remove the changing table from his room at 18 months of age. I don't know how he got to the top, but I'm sure he wouldn't be able to do that if there were no open shelves to climb onto.If you want more reviews on baby products, check out the website AllMomsArePerfect.com ...\n",
       "979                                                                                                                                                                                                                                                                                                                                                                                                                                                                                                                                                                                                                                      I wasn't too impressed with the cover. Wetness actually leaked right through the fabric and the leg openings were too big. I felt that the gathering around the legs would also be rough on baby's skin.The hook and loop closure also would stick to cloth diapers in the wash. The pacifier bag is nice from this company and I use their diaper sack for my pumping supplies. (Again, thin fabric)\n",
       "980    I put this item on my son's wish list so family members can purchase it, and honestly, I didn't really didn't think much of it.  But when we got it, my son's eyes just lighted up. It was a quick set up, quick enough where a toddler actually patiently waited about 10-15 seconds while I unsnapped the legs up without a peep.  Then he rode around the house for at least an hour and a half, just back and forth.  He was never really that great with maneuvering his ride alongs, but he seemed to pick up on it with this one fairly quickly.  My son is 20 months and small for his age only in the 10% tile, and he fits it perfectly.  His little feet actually reaches the ground riding on this one!!  It's very sturdy and I don't have to worry about him tipping over yet it's light enough to maneuver by himself if he gets stuck somewhere.  It also went from hardwood to carpet and vice versa without a problem of it tipping. When he was done with it, I snapped it back flat and slide it under his crib....\n",
       "981    I love my BabyKicks diapers. I agree with other reviewers and say that like all other diapers, they may not work for every baby. If your baby is on the average size, or in my sons case, tall and skinny, they work beautifully. With all cloth diapers (and clothes, etc.) it takes a little trial and error to find which styles fit your child best. I also believe that you can have different diapers for different uses (bedtime only diapers, out and about diapers, diapers for daddy only, etc.). You do not have to have a stash of only one brand! I think this completely limits you! The BabyKicks diaper deserves a place in your stash.I am a huge fan of the original BabyKicks pocket and love the premium version.  The difference is that the premium version comes with a stay-dry liner that you place into the diaper between the baby and the shell.  The liner helps keep baby dry and makes removing poops easier!  While I like the addition, it is not completely necessary in my opinion.  The fabric o...\n",
       "982                                                                                                                                                                                                                                                                                                                                                                                                                                                                                                                                                                                                                                                                                                                                                                                                                                                                Fits fine on my toilet (I have an oval shaped one). My daughter likes sitting on it and pointing out the ducks eyes and nose. She seems to be pretty comfortable on it too.\n",
       "983                                                                                                                                                                                                                                                                                                                                                                                                                                                                                                                                                                                                                                                                                                                                                                                                                                                                                                            I tried different bottle brushes and this is by far the most durable with the best performance.I totally recommend this product\n",
       "984                                                                                                                                                                                                                                                                                                                                The Firefly was the first Lamaze toy I purchased for my nearly 4 month old daughter. I have had it attached to her car seat and she loves to grab the bits that make crinkly noises as well as the ring at the bottom. The item seems very well made and the colors are vibrant and happy. As a parent I absolutely love the Lamaze toys. The colors are eye catching, they are safe, they keep my daughter engaged (which is difficult as she is easily distracted), and the majority of the Lamaze toys don't sing. I cannot stress enough how much I love that these toys keep my child entertained without the irritating music that comes with so many children's toys. Highly recommend this product.\n",
       "986                                                                                                                                                                                                                                                                                                                                                                                                                                                                                                                                                                                                                                                                                                                                                   You take the packs and put them in the sleeves. There is a double sleeve and a single sleeve. I have the double behind the neck of my guitar in its guitar case and the single behind the body. It has worked so far. It is very arid where I live and I want my fret board to be happy.\n",
       "987    So, on the amazon listing it doesn't say that this pillow contains polyurethane. This is not 100% cotton. The pad on top is made of polyurethane, which requires flame retardant. If you google both of those, you can see the potential side effects. It just doesn't seem like a good idea to have baby on that so frequently. So I won't use it anymore because of that. But, there are other not ideal issues aside from that.Second, the top pad is not machine washable. You can only wipe it down. With the range of messes associated with newborns and nursing, that is not ideal.If I was going to buy a nursing pillow that had polyurethane in it, I would suggest to go for the Brest Friend, which has a back strap which I found super-helpful while nursing. A boppy also does not have polyurethane in it, but no back strap. That can sometimes be helpful for nursing but I could never really get it at just the right angle. And, if you want something more this shape without polyurethane, I would consider ...\n",
       "988    I have four kids.  We've done som pretty serious bib testing.  My favorite were the canvas bibs made by Ore/Sugarbooger, but they only make them in infant sizes now.  Which in my experience, is not actually a useful size for anything other than catching drool from teething or a little mess from a bottle feeding.  Anyhow, since I can't get those in useful size, I've tried just about every kind of bib.  So far, these are the best bibs I've found and the price is reasonable.There are other bibs that look similiar (such as the big-box store brands) but once you wash them in the laundry they turn into a wrinkly mess.  These bibs have survived many washings and still look good.  They do a decent job of catching food and they are nicely water proof.  My only complaint is that the velco tears off easy, so if your kid doesn't want to wear a bib, you are probably out of luck.  This is pretty much true of every bib out there these days, so unless get something handmade, it's just something yo...\n",
       "989                                                                                                                                                                                                                                                                                                                                                                                                                                                                                                                                                                                                                                                                                      My 9 month old received this for Christmas and it's a huge hit with both my 9 month old and my 3yr old. My 3yr old winds it back and lets it go, and my 9 month old crawls after it. Not too noisy (unlike the larger popper vacuum thingies), just enough noise to keep his attention. It even rolls on low-pile carpet pretty well. Fun little car!\n",
       "990                                                                                                                                                                                                                                                                                                                                                                                                                                                                                                                                                                                              I bought this stand because I needed support for larger songbooks that my metal fold-up could not provide.  I really, really like it. Others in my music groups that have seen it have also gone out and ordered one.  It assembles quickly and easily, and folds up into a nice package for transport.  Every once in a while I have to tighten the lock cams, but that is no issue.  It is very sturdy and holds big music books very well.\n",
       "991                                        Medela pumps are used at most maternity wards and NICUs for a reason - they are high quality. I loved that I could use the extra parts that were given to me by the hospital (and paid for by my insurance!) with this manual pump and my electric Medela Pump-in-Style.This manual pump works well with extraction. It has two \"settings\" you can pump one part of the handle to stimulate let-down then pump the other part of the handle after let down has been established. I used this primarily when I was in my husband's car while he was driving - if we were stuck in traffic or just to get some extra pumping time in while I was trying to stimulate my supply during a time of lower supply.The flanges can be pretty discrete - especially if a pump-type bra or other clothing designed to hold it to your breast were used.For a manual pump, this does the job. The materials have lasted about six months and you can tell by the look and feel that they are quality material.\n",
       "992                                                                                                                                                                                                                                                                                                                                                                                                                                                          Features:Swaddle Angel includes a 2 pair of blankets. It is made of Rayon got from bamboo.Pros:1) This blanket is made up of very soft material and is very light.2) It acts a munchkin swaddling blanket. The baby loves to be wrapped in this soft blanket.3) It works as a nursing cover too.The double layer center panel gives extra warmth to baby and privacy to motherwhile nursing.4) The blanket has a loop on each corner to attach to the stroller and infant carrier to act as protective cover for thebaby from sunlight, rain, insects and bugs.Love this product!\n",
       "993                                                                                                                                                                                                                                                                                                                                                                                                                                                                                                                                                                                                                                                                                                                                                                                                                                                                                                  This product has literally lifted the appearance of my drooping upper lids. I can actually SEE my upper lids for the first time in years!\n",
       "994                                                                                                                                                                                                                                                                                                                                                                                                                                                                                                                                                                                                                                                   Excellent product that primes your face for application of makeup -- and makes the makeup just glide on and stay put.  This was a little heavy for the heat of the summer, and I wouldn't use it when I planned to spend much time out of doors in the heat, as I felt like it made me a little more prone to sweating..  But it does do a fabulous job of evening out the skin surface.\n",
       "995                                                                                                                                                                                                                                                                                                                                                                                                                                                                                                                                                                                                                                                                                                                                                                                                                                                        We have the oddest shaped stairs and had a hard time finding a way to put up 2 of our gates. Well this spindle was very helpful for the bottom of the staircase. Worth every penny!\n",
       "996                                                                                                                                                                                                                                                                                                                                                                                                                             These work pretty well in my son's closet!  I love that it pops up on top of the rod so I can see what it says.  I'm disappointed that the stickers that come with it are &#34;3 months&#34; &#34;6 months&#34; etc. rather than &#34;0-3 months&#34; and &#34;3-6 months.&#34;  Many clothes are like this these days as well and it's not very helpful for us.  They tend to not slide very well on our older, metal rods (they are also thicker than most newer rods) but I'm positive this would not be a problem on a plastic tension rod or something of the sort--just gets stuck on the metal I think!\n",
       "997    Yes, this pedal is made of plastic. Yes it is inexpensive. But don't be fooled- unless you really mash on the switch button like an idiot, or over torque the battery cover screw too hard with a screw driver and strip out the plastic threads- it is pretty tough and durable. The chorus effect has plenty of adjustment, tone, and depth. It may not be a Boss pedal, but for $15.99 you are getting a tremendous value and it sounds very good. I was so impressed with these inexpensive pedals I now own 4 or 5 of them. As a hobbyist guitar player who does not want to invest hundreds of dollars into multiple effects pedals- I am into 4 or 5 of them PLUS associated cables and a power adapter for about the same amount than I could buy ONE Boss or other high quality pedal for.I would also recommend buying the Danelectrode 9V power adapter if you use multiple pedals. You can also buy a 5 gang power cable and daisy chain up to 4 or 5 pedals from the same power supply to make your own pedal board. If...\n",
       "998                                                                                                                                                                                                                                                                                                                                                                                                                                                                                                                                                                  I thought this toy would have more sounds, and that the sounds would sound like the actual instrument. However, it is small and the sounds are just like any other toy-cheap keyboard sounds. My 5 month old isn't very interested, but I will keep it around and hope she at least picks it up one day. She loves the Baby Einstein lion that was on her Around the World Play Gym, so I tought she would like this. Not so much. Think of it as a noisy stuffed animal.\n",
       "999                                                                                                                                                                                                                                                                                                                                                                                                                                                                                                                                                                                                                                I have sensitive skin and this cleanser worked well on it.  It lathers right out of the container, so it lasts a long time.  It rinses clean, but did leave my skin feeling a little bit dry, so you'll definitely moisturizer after using this cleanser.  It doesn't really have a scent at all.  Overall, It's very nice cleanser, but nothing special or unique as far as benefits I noticed to my skin.\n",
       "Name: review, Length: 933, dtype: object"
      ]
     },
     "execution_count": 85,
     "metadata": {},
     "output_type": "execute_result"
    }
   ],
   "source": [
    "reset_sample['review'].iloc[finalclusters[0]]"
   ]
  },
  {
   "cell_type": "code",
   "execution_count": 86,
   "metadata": {},
   "outputs": [
    {
     "data": {
      "text/plain": [
       "56                                                                                                                                                                                                                                                                                                                           Love the monitor. It has good picture quality and gives us peace of mind. The base can be rotated to view anywhere in crib. It has a microphone to talk to baby and you can play music.\n",
       "68                                                                                                                                                                                                                                                                                                                                                                                     Baby dearly loves this! I got a second in blue to be sure we had enough! The small horse is perfect for little hands to grab.\n",
       "70                                                                                                                                                                                                                                            These sheets are velvety soft and wash well.  They have a nice deep pocket too--I use a crib wedge under the sheet to keep my little guy elevated. They fit over the wedge, no problem. We bought two, so there's always a spare. I wish my bed sheets felt like this!\n",
       "80                                                                                                                                                                                                                                                                                                                                                                                                          Both my 3-year old and my 1-year enjoy stacking and pouring with these in the bath tub. Happy with them!\n",
       "99                                                                                                                                                                                                                                                                                                                                                                   Love this bag because it straps to the stroller and is not bulky yet has lots of room. Great quality and style. My husband even likes using it.\n",
       "172                                                                                                                                                                                                                                                                                                                                                                                    I bought 2 sets and 2 others without case. I love these silicone spoons. The case is very useful, totally worth the purchase.\n",
       "221                                                                                                                                                                                                                                                                                                                                                                                 Good stitching, no slippage. Awesome strap. Fits straps locks just fine. Perfectly happy with this strap. Thank you earnie ball!\n",
       "222                                                                                                                                                                                                                        We purchased this car seat for our son when we purchased a new car. The leather matches our car perfectly. The materials are all very nice and the seat seems sturdy and well made. The install was easy and our son is comfortable in his new seat. We're so pleased with this purchase!\n",
       "229    I needed turquoise crib sheets to match a homemade quilt. Was surprised I couldn't find sheets that would work anywhere! Was happy to find these sheets online, although I was worried the color wouldn't end up matching. The color is great, perfect!!! It's a boy's room, and the color would be great for either. Infact I would say it matches the color on the screen exactly. They washed well, quality seems good (very soft cotton jersey). The baby hasn't arrived yet, so not sure how it'll wear.\n",
       "258                                                                                                                                                                                                                                                                                                                                                                  Glad I got this.  I fit two NUK pacifiers in this for my son.  I throw it in my diaper bag and it's easy to find because of the nice red color.\n",
       "308                                                                                                                                                                                                                                                                                              My son adores the flashing lights and the music.  I just wish it would play continuously because he isn't old enough to push the button himself.  But for playtime it is perfect and always captures his attention.\n",
       "325                                                                                                                                                                                                                    i bought a 6 pack for trying...I do love them, I need to buy another 6 pack because is not enought just one.I had saved a lot of money not buying dispensables ones. The color are beautiful, they fit perfectly my boy is around 21 pounds and still fit as he was 9 months. I do love this!\n",
       "347                                                                                                                                                                                                                                                    Yes i have pretty sheets on the crib......but who wants to wash them every time there is a mess.  Well this is the answer!  So much easier (since they snap around the crib slats) to get on and off!  Waterproof!!  What else should i say!  Perfect gift!!!\n",
       "358                                                                                                                                                                                                                                                                                                                                                                                                  Perfect length, fits crib well, color is spot on. I am happy with this purchase and would suggest it to others.\n",
       "377                              If you put these in the dryer (even on delicate) they'll be too small. After washing, the sheet hardly fits over the 4 corners of the mattress & only covers half of the sides of the mattress. We have  standard sized Colgate mattress that fits our Graco crib perfectly. They should have made these a couple inches wider and longer to allow for shrinkage.  Im going with jersey sheets that have some stretch now to avoid wasting more money on sheets that are too small.\n",
       "385                    I have been buying philips avents pacifiers for my son since he is born,i love love the avents pacifiers for my son because it comes with a cover so whenever not in used i can cover it,how ever my son is now a year old so i decided to get the 6-18 months ones for him ,i don't like that it comes like color may vary i can live with the style may vary but the color i have a son i can't give him a pink pacifier,i would be much more happy if u could have choose for boy or girl.\n",
       "388                                                                                                                                                                                                                                                                                                                                                                This cup hasn't spilled on us, is easy to clean, is easy for my 17-month-old to grip, and fits easily in cup holders.  Would certainly buy again.\n",
       "392                                                                                                                                                                                                                                                                                                                                                                                                                                                                                                         Perfect!\n",
       "393                                                                                                                                                                                                                                                               PERFECT fit! Thick, elastic goes around the entire pad, with a deep fit, and it's soft to the touch! Fits my Delta mini-crib perfectly. Very happy with this purchase... it was even 4 dollars cheaper than current eBay sellers. :-) Love Amazon!\n",
       "410            We love our uppa vista.. and we were using the skip hop stroller liner for it... but I really wanted black, so was happy when Uppababy came out with this liner. Just put it on yesterday.. fits perfect, like a glove and looks nice too. I do wish it was a tad longer to cover the entire length of the seat (dusty shoes after a trip to the park mark up the stroller seat so would be nice to have it longer) but so far, we dig it! Happy with the purchase and our little guy likes it too :)\n",
       "445                                                                                                                                                                                                                                                                                                                                                                                    This hamper is very cute and good quality.  It looks great in my baby's room and goes well with the matching sheets and lamp.\n",
       "475                                                                                                                                                                                                                                                                                                                                                                                                     The velboa is soooo soft and totally worth the upgrade from fleece. I love it. It's the perfect shower gift.\n",
       "477                                                                                                                                                                                                                                                                                                                                                                                                                                                                          Holds heat well, sturdy and economical.\n",
       "542                                                                                I couldn't use this sheet after washing as it was too tight, causing the 4 pieces of the pack n play base to overlap.  (I washed in a normal cotton cycle and air-dried.)  Also it never lay completely flat, instead puffing up in places.  I didn't necessarily feel it was unsafe for my baby as the elastic is very tight around the corners but it just wasn't very practical.  The jersey fitted sheets worked much better.\n",
       "550                                                                                                                                                                                                                                                                                  We got this crib from my parents and we love it.  It feels sturdy however it is lite enough for me to move it around if needed.  The highest height is perfect for me because I'm such a shorty.  The black color is beautiful.\n",
       "587                                                                                                                                                                                                                                                                                                                                                                                                  This was just to cute. I loved the type of material that was used. It looks great in the baby room. Great buy!!\n",
       "597                                                                                                                                                                                                                                                                                                                                                                          Came quickly and is exactly what I wanted. The local stores didn't have the letters we needed for our nursery so this worked out great.\n",
       "615                                                                                                                                                                                                                                                                                                                                                                                         This was exactly what I needed for my Medela Pump N Style Advanced. I got this as replacement tubing and it worked well.\n",
       "621                                                                                                                                                                                                                                                                                                                                                                                            Perfect, i love the fact it is bigger then the pack and plays but folds up just like a pack and play. Awesome toys!!!\n",
       "683                                                                                                                                                                                                                                                                                                                                                                            This is a well made table top stand. The weight of the stand holds the mic and wire in place with ease. I would get this stand again.\n",
       "684                                                                                                                                                                                                                                                                                                                                                     We bought a set to decorate the baby's nursery. They arrived quickly in great condition and look dynamite up on the wall. Very nice idea to decorate a room.\n",
       "697                                                                                                                                                              The baby is aware that theBooginhead PaciGrip Pacifier Holder, Delicate Dot Pinkis attached to her clothes and everyone who sees her likes the delicate dot pink pattern.  This keeps her pacifier from straying far.  I've found that the clip scares me but it hasn't bothered the baby.  Serves the purpose and the parents use these regularly.\n",
       "717                                                                                                                                                                                                                                                                                                                                                                                         It's a very cute backpack for kids. Skip Hop does the cutest backpacks ever! A good purchase for babies, toddlers, kids.\n",
       "743                                                                                                                                                                                                                                                                                                                                                                           Easy to assemble and lots more room than our previous one so able to fit all bottles and pacifiers. Looks good and love that it spins.\n",
       "753                                                       This stroller is a great alternative to a full-size double stroller.  My daughter is 4 and I just had a baby, and it's perfect.  The only drawbacks I've found so far are the lack of cup holders, and the basket underneath is rather useless, at least as far as being able to fit a diaper bag or anything of bulk besides a couple jackets.  If these problems were resolved, it would be a 5 star stroller!  I got the lemontree color and I love it!\n",
       "848                                                                        These sheets are great!  We have a bumper and a very tight mattress so in order to change the sheets we need to untie the bumper and pull out the mattress, no easy feat.  With these I can change the sheets so easily.  It zips off very easily and the new one zips on.  We bought the white and the great thing is you can bleach out stains.  The sheets are not really soft, but certainly not rough and so far have held up great.\n",
       "Name: review, dtype: object"
      ]
     },
     "execution_count": 86,
     "metadata": {},
     "output_type": "execute_result"
    }
   ],
   "source": [
    "reset_sample['review'].iloc[finalclusters[1]]"
   ]
  },
  {
   "cell_type": "code",
   "execution_count": 88,
   "metadata": {},
   "outputs": [
    {
     "data": {
      "text/plain": [
       "3                                                                                                                                                                                                                                                                                                                                                                                                                                                                                                                                                                                                                                                                                                                                                                                                                                                               Purfect coverage, love it\n",
       "41                                                                                                                                                                                                                                                                                                                                                                                                                                                                                                                                                                                                                                                                                                                                                                                                                                                                         LOVE THE COLOR\n",
       "74                                                                                                                                                                                                                                                                                                                                                                                                                                                                                                                                                                                                                                                                                                                                                                                                                                             Perfect shipping, good price, good product\n",
       "82                                                                                                                                                                                                                                                                                                                                                                                                                                                                                                                                                                                                                                                                                                                                                       I like this pacigrip, it is simple but easy to use and very useful. The purple color is very nice. I am happy with the purchase.\n",
       "95                                                                                                                                                                                                                                                                                                                                                                                                                                                                                                                                                                                                                                                                                                                                               I thought the color would be more on the pink side, but it had a slight orange undertone at least on me which was not flattering at all.\n",
       "101                                                                                                                                                                                                                                                                                                                                                                                                                                                                                                                                                                                                                                                                                                                                   IT DOES THE JOB. It is nice and it fits well on my desktop mic stand and it looks nice infront of my Shockmount that holds my Audio Technica AT2020\n",
       "125                                                                                                                                                                                                                                                                                                                                                                                                                                                                                I really like this makeup. It blends in well, it's nice and airy, not heavy or greasy. This color compliments my summer skin tone nicely, a light tan with neutral undertones. I can wear this and be confident that I already have sunscreen protection during the day. It is matte, but I can add shimmer powder or blush on top if I want. I like the coverage and the tint, so I would order more.\n",
       "149                                                                                                                                                                                                                                                                                                                                                                                                                                                                                                                                                                                                                                                                                                                                                                    I love Essie polishes. Essie products are very consistent in the quality. It goes on smoothly and dries very fast.\n",
       "196                                                                                                                                                                                                                                                                                                                                                                                                                                                                                                                                                                                                                                                                                                                                                    Love the color and the quality of Essie.  Dark blue/navy is pretty in as a color this year so I plan on wearing this polish a lot.\n",
       "249                                                                                                                                                                                                                                                                                                                                                                                                                                                                                                                                                                                                                                                                                                                                                                                                                                                                           Good polish\n",
       "458                                                                                                                                                                                                                                                                                                                                                                                                                                                                                                                                                                                                                                                                                                                                                                                                                                                                          Go to polish\n",
       "467                                                                                                                                                                                                                                                                                                                                                                                                                                                                                                                                                                                                                                                                                                                                                                  Great neutral color.  I think it would look good on most skin tones. One in the set of Oprah's Favorite Things 2013.\n",
       "481    Stay All Day Liquid Lipstick is my holy grail lipstick.  I have it in Patina and it's easy to apply and lasts and extremely long time.  I'm hard on my lips and prone to chewing on them or eating and drinking a lot and this is one of the few lipsticks that stays on for hours.  And even when it does start to wear off, it does so in a way where it just looks slightly faded and isn't unsightly.  I especially LOVE Patina.  It's a rich nude-mauve that's like my lip color only a little darker and prettier.  I have neutral-toned light/medium skin and it's a perfect color for me.  I love pairing it with a brown or plum smokey eye and I get a lot of compliments on it.  It's the perfect lip color to have a pretty, pulled together look and as such it's regular in my makeup bag even though I have a substantial stash of 50+ lipsticks.  Would recommend.\n",
       "503                                                                                                                                                                                                                                                                                                                                                                                                                                                                                                                                                                                                                                                                                                                                                                This is the perfect medium brown color for fall. Very polished look, and a great change from the normal bright colors.\n",
       "538                                                                                                                                                                                                                                                                                                                                                                                                                                                                                                                                                                                                                                                                                                                                                                                                                                              Nice fuschia pink color, good for summer\n",
       "571                                                                                                                                                                                                                                                                                                                                                                                                                                                                                                                                                                                                                                                                                                                                                                                                                                                         Great neutral color, love it!\n",
       "594                                                                                                                                                                                                                                                                                                                                                                                                                                                                                                                                                                                                                                                                                                                                                                                                                                                               Matte color isn't great\n",
       "640                                                                                                                                                                                                                                                                                                                                                                                                                                                                                                                                                                                                                                                                                                                                                              GLS Audio 25ft Mic Cable is very High Quality. You will not be disappointed. Low cost, long lasting. I'm very satisfied.\n",
       "663                                                                                                                                                                                                                                                                                                                                                                                                                                                                                                                                                                                                                                                                        Shellac is a great product overall.. Nothing bad about it.  This color is one you need to be careful when applying for consistent coverage. A chalky color but very nice for summer!!  Looks great with a tan!\n",
       "713                                                                                                                                                                                                                                                                                                                                                                                                                                                                                                                                                                I got this in light brown.  I have slight hair loss from a medication I was taking, at my crown.  This looks like dirt, & sucks the shine from my hair wherever it falls.  The color is not even remotely brown or light brown.  More grayish black brown. I gave it 2 stars because I like the shake it on container.\n",
       "719                                                                                                                                                                                                                                                                                                                                                                                                                                                                                                                                                                                                                                                                                                                                                                                                                                                               Exactly what I expected\n",
       "724                                                                                                                                                                                                                                                                                                                                                                                                                                                                                                                                                                                                                                                                                                                                       Great product, I swear by the Cnd shellac colors! This is a great fall color, a bit on the neutral side for color, goes with many other colors!\n",
       "758                                                                                                                                                                                                                                                                                                                                                                                                                                                                                                                                                                                                                                                                                                                                                                                                                                                                   Perfect red for me.\n",
       "798                                                                                                                                                                                                                                                                                                                                                                                                                                                                                                                                                                                                                                                                                                         This bag is much darker than in the photo.  The green is much darker, and the gray-stone color is actually more beige.  I'm not happy with the colors and am sending it back.\n",
       "816                                                                                                                                                                                                                                                                                                                                                                                                                                                                                                                                                                                                                                                                                                                                                                                                        love love LOVE this nail color.  It glows and gets compliments left and right.\n",
       "835                                                                                                                                    Beautiful color!  It's actually a bit on the natural side of red, too.  Very nice.  The angled design of the tip makes for easy application and it felt nice and smooth as it went on and it didn't dry my lips out.  I didn't need a lip gloss as a top coat, and that's a rare thing for me.  The staying power is excellent.  After drinking a beverage I still had a nice red color to my lips.  I did a reapplication after eating a meal but there was surprisingly enough still some color on a good four hours after applying.  This lipstick is odor and tasteless and I quite appreciate that.  It did not bleed nor feather.  This is most definitely a quality lipstick and I'd highly recommend it to anyone wanting the perfect red.\n",
       "866                                                                                                                                                                                                                                                                                                                                                                                                                                                                                                                                                                                                                                                                                                                                                                                                                                                It is nice and refreshing! Love Vichy!\n",
       "889                                                                                                                                                                                                                                                                                                                                                                                                                            I used Japonesque products in the past and was impressed. The quality is what I would expect from a luxury line. Also, the packaging is sleek and chic and sturdy. This lipstick is no exception. This semi-matte lipstick goes on like velvet-even over not so smooth lips. It wears well and the color I received-07-is beautiful. Those looking for quality products should really check out this product along with the concealer I also reviewed. A+!\n",
       "925                                                                                                                                                                                                                                                                                                                                                                                                                                                                                                                                                                                                                                                                                                                                                                                                                            Love the color! Doesn't wear as well as some other brands.\n",
       "969                                                                                                                                                                                                                                                                                                                                                                                                                                                                                                                                                                    This lipstick went on smoothly and stayed on well. The color was a bit too bright for my taste. I prefer deeper reds. When I wiped it off, some of the color stayed behind and looked like a nice lip stain. If you find a color you like, this would be a nice, creamy lipstick. But this one just wasn't for me.\n",
       "985                                                                                                                                                                                                                                                                                                                                                                                                                                                                                                                                                                                                                                                                                                               A summer favorite, fuschia with a hint of shimmer. I love this color, but this bottle is thin. Normally I would need two coats to cover, but I need 3 from this bottle.\n",
       "Name: review, dtype: object"
      ]
     },
     "execution_count": 88,
     "metadata": {},
     "output_type": "execute_result"
    }
   ],
   "source": [
    "reset_sample['review'].iloc[finalclusters[2]]"
   ]
  },
  {
   "cell_type": "markdown",
   "metadata": {},
   "source": [
    "#### 4.3"
   ]
  },
  {
   "cell_type": "markdown",
   "metadata": {},
   "source": [
    "The algorithm with k=3 does not seem to cluster similar reviews together very accurately. We can see atleast one cluster (newcluster2) that does not seem to have any particular type of reviews. This is because the algorithm just checks for the word count and not the context. For instance, The following 2 are misclassified reviews:\n",
    "\n",
    "\"Love the monitor. It has good picture quality and gives us peace of mind. The base can be rotated to view anywhere in crib. It has a microphone to talk to baby and you can play music.\" - This review didn't get clustered into the baby review cluster (cluster1) because of the presence of words like \"music\", \"monitor\", \"microphone\"\n",
    "\n",
    "\"My son adores the flashing lights and the music.  I just wish it would play continuously because he isn't old enough to push the button himself.  But for playtime it is perfect and always captures his attention.\" - Similarly, this review has words like \"lights\",\"music\", which may have caused it to get clustered incorrectly.\n"
   ]
  },
  {
   "cell_type": "markdown",
   "metadata": {},
   "source": [
    "#### 4.4"
   ]
  },
  {
   "cell_type": "code",
   "execution_count": 99,
   "metadata": {},
   "outputs": [
    {
     "data": {
      "text/plain": [
       "1    655\n",
       "2    337\n",
       "4      8\n",
       "Name: cluster, dtype: int64"
      ]
     },
     "execution_count": 99,
     "metadata": {},
     "output_type": "execute_result"
    }
   ],
   "source": [
    "final4 = km(4,tf_idf)\n",
    "final4.cluster.value_counts()"
   ]
  },
  {
   "cell_type": "code",
   "execution_count": 100,
   "metadata": {},
   "outputs": [],
   "source": [
    "listclust4 = final4.cluster.unique().tolist()"
   ]
  },
  {
   "cell_type": "code",
   "execution_count": 95,
   "metadata": {},
   "outputs": [],
   "source": [
    "finalclusters = []\n",
    "for i in range(len(listclust)):\n",
    "    sublist = final4[final4.cluster == listclust4[i]].index.tolist()\n",
    "    finalclusters.append(sublist)"
   ]
  },
  {
   "cell_type": "code",
   "execution_count": 97,
   "metadata": {},
   "outputs": [
    {
     "data": {
      "text/plain": [
       "3    987\n",
       "4     10\n",
       "1      3\n",
       "Name: cluster, dtype: int64"
      ]
     },
     "execution_count": 97,
     "metadata": {},
     "output_type": "execute_result"
    }
   ],
   "source": [
    "final5 = km(5,tf_idf)\n",
    "final5.cluster.value_counts()"
   ]
  },
  {
   "cell_type": "code",
   "execution_count": 101,
   "metadata": {},
   "outputs": [
    {
     "data": {
      "text/plain": [
       "2    644\n",
       "1    356\n",
       "Name: cluster, dtype: int64"
      ]
     },
     "execution_count": 101,
     "metadata": {},
     "output_type": "execute_result"
    }
   ],
   "source": [
    "final2 = km(2,tf_idf)\n",
    "final2.cluster.value_counts()"
   ]
  },
  {
   "cell_type": "markdown",
   "metadata": {},
   "source": [
    "#### 4.5"
   ]
  },
  {
   "cell_type": "markdown",
   "metadata": {},
   "source": [
    "Even after taking different values of k like 2, 3, 4, 5 we realize that the ideal number of clusters for this data is 3 (since for k = 4 and k = 5 we lost 1 and 2 clusters, respectively and ended up having 3 clusters itself).\n",
    "\n",
    "3 clusters gave us relatively distinct clusters with lesser overlap. k = 4 and k = 5 were interesting because we could see how the number of clusters still converged to 3 and did not remain 4 or 5.\n",
    "\n",
    "We can say for k = 3, the results were fairly good based on the inspection of reviews in each clusters. "
   ]
  }
 ],
 "metadata": {
  "kernelspec": {
   "display_name": "Python 3",
   "language": "python",
   "name": "python3"
  },
  "language_info": {
   "codemirror_mode": {
    "name": "ipython",
    "version": 3
   },
   "file_extension": ".py",
   "mimetype": "text/x-python",
   "name": "python",
   "nbconvert_exporter": "python",
   "pygments_lexer": "ipython3",
   "version": "3.8.3"
  }
 },
 "nbformat": 4,
 "nbformat_minor": 2
}
